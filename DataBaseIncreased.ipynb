{
 "cells": [
  {
   "cell_type": "code",
   "execution_count": 8,
   "metadata": {},
   "outputs": [],
   "source": [
    "import pandas as pd\n",
    "import time\n",
    "import os\n",
    "import numpy as np\n",
    "import matplotlib.pyplot as plt\n",
    "from scipy.interpolate import interp1d, interp2d\n",
    "import urllib.request\n",
    "import json"
   ]
  },
  {
   "cell_type": "code",
   "execution_count": 9,
   "metadata": {},
   "outputs": [],
   "source": [
    "def nod(year, month):\n",
    "    if month == 4 or month == 6 or month == 9 or month == 11:\n",
    "        days = 30\n",
    "    elif month == 2:\n",
    "        days = 29 if year % 4 == 0 else 28\n",
    "    else:\n",
    "        days = 31\n",
    "    return days\n",
    "def create_dates(start_year, end_year):\n",
    "    days = 0\n",
    "    for i in range(start_year, end_year + 1):\n",
    "        day_y = 366 if (i % 4) == 0 else 365\n",
    "        days += day_y\n",
    "    year = start_year\n",
    "    month = 1\n",
    "    day = 0\n",
    "    dates = []\n",
    "    for i in range(0, days):    \n",
    "        if day < nod(year, month):\n",
    "            day += 1\n",
    "        else:\n",
    "            day = 1        \n",
    "            if month < 12:\n",
    "                month += 1\n",
    "            else:\n",
    "                year += 1\n",
    "                month = 1\n",
    "        ms = '0' + str(month) if month<10 else str(month)\n",
    "        ds = '0' + str(day) if day<10 else str(day)\n",
    "        dates.append(str(year) + ms + ds)\n",
    "    dates_int = [int(x) for x in dates]\n",
    "    return dates, dates_int"
   ]
  },
  {
   "cell_type": "code",
   "execution_count": 10,
   "metadata": {},
   "outputs": [],
   "source": [
    "def findval(df, lat, lon):\n",
    "    latstr = list(df)[0]\n",
    "    lonstr = list(df)[1]\n",
    "    df = df[df[latstr]==lat]\n",
    "    df = df[df[lonstr]==lon]\n",
    "    val = df['Value'].item()\n",
    "    return val\n",
    "def interpval(df, lat=1, lon=1):\n",
    "    lat_0 = df['Latitude'].iloc[2]\n",
    "    lat_1 = df['Latitude'].iloc[0]\n",
    "    lon_a = df['Longitude'].iloc[0]\n",
    "    lon_b = df['Longitude'].iloc[1]\n",
    "    t = (lat - lat_0) / (lat_1 - lat_0)\n",
    "    s = (lon - lon_a) / (lon_b - lon_a)\n",
    "    X_tl = findval(df, lat_1, lon_a)\n",
    "    X_tr = findval(df, lat_1, lon_b)\n",
    "    X_bl = findval(df, lat_0, lon_a)\n",
    "    X_br = findval(df, lat_0, lon_b)\n",
    "    value = (1 - s) * (1 - t) * X_bl + (1 - s) * t * X_tl + s * (1 - t) * X_br + t * s * X_tr\n",
    "    return value\n",
    "def savelist(array, name='file'):\n",
    "    name = name + '.txt'\n",
    "    with open(name, \"w\") as f:\n",
    "        for s in array:\n",
    "            f.write(str(s) +\"\\n\")"
   ]
  },
  {
   "cell_type": "code",
   "execution_count": 11,
   "metadata": {},
   "outputs": [],
   "source": [
    "def find_iv(rd, output, start_year, end_year, hours, lat, lon, datafreq='D', outputname='itcwv'):\n",
    "    start_time = time.time()\n",
    "    hours = [hours] if type(hours)!=list else hours\n",
    "    name = rd[::-1][rd[::-1].find('.')+1:rd[::-1].find('/')][::-1]\n",
    "    txt_name = name + '.txt'\n",
    "    output_path = output + txt_name\n",
    "    command = 'grib_get_data -p dataDate,dataTime ' + rd + ' > ' + output_path\n",
    "    os.system(command)\n",
    "    df = pd.read_csv(output_path, sep='\\s+')\n",
    "    col_ind = list(df)\n",
    "    ncol_ind = [x.replace(',','') for x in col_ind]\n",
    "    df.columns = ncol_ind\n",
    "    df = df[~df['Latitude'].isin(['Latitude,'])]\n",
    "    col_ind = list(df)\n",
    "    for i in col_ind:\n",
    "        df[i] = pd.to_numeric(df[i])\n",
    "    dates = create_dates(start_year, end_year)[1] if datafreq=='D' else create_mdates(start_year, end_year)[1]\n",
    "    for i in hours:\n",
    "        tcwv_i = []\n",
    "        hs = f\"{int(i/100):02d}\"\n",
    "        hdf = df[df['dataTime']==i]\n",
    "        for j in dates:\n",
    "            ddf = hdf[hdf['dataDate']==j]\n",
    "            iv = interpval(ddf, lat, lon)\n",
    "            tcwv_i.append(iv)\n",
    "        path = output + outputname + '_' + hs\n",
    "        savelist(tcwv_i, path)\n",
    "    print(\"--- %.6s seconds ---\" % (time.time() - start_time))"
   ]
  },
  {
   "cell_type": "code",
   "execution_count": 11,
   "metadata": {},
   "outputs": [],
   "source": [
    "hourarray = np.arange(0,2400,100).tolist()\n",
    "#hourarray = [str(i) for i in hourarray]"
   ]
  },
  {
   "cell_type": "markdown",
   "metadata": {},
   "source": [
    "### 1950 to 1959"
   ]
  },
  {
   "cell_type": "code",
   "execution_count": 12,
   "metadata": {},
   "outputs": [
    {
     "name": "stdout",
     "output_type": "stream",
     "text": [
      "--- 614.90 seconds ---\n"
     ]
    }
   ],
   "source": [
    "startyear = 1950\n",
    "endyear = 1959\n",
    "hourarray = np.arange(0,2400,100).tolist()\n",
    "latitude = -16.51\n",
    "longitude = -68.17\n",
    "inputpath = '/home/gustavo/Downloads/tcwv/tcwv-50-59.grib'\n",
    "outputpath = '/home/gustavo/Downloads/tcwv/interp/'\n",
    "find_iv(inputpath, outputpath, startyear, endyear, hourarray, latitude, longitude)"
   ]
  },
  {
   "cell_type": "markdown",
   "metadata": {},
   "source": [
    "### 1960 to 1969"
   ]
  },
  {
   "cell_type": "code",
   "execution_count": 14,
   "metadata": {},
   "outputs": [
    {
     "name": "stdout",
     "output_type": "stream",
     "text": [
      "--- 611.07 seconds ---\n"
     ]
    }
   ],
   "source": [
    "startyear = 1960\n",
    "endyear = 1969\n",
    "inputpath = '/home/gustavo/Downloads/tcwv/tcwv-60-69.grib'\n",
    "os.system('mkdir /home/gustavo/Downloads/tcwv/interp/tcwv-60-69/')\n",
    "outputpath = '/home/gustavo/Downloads/tcwv/interp/tcwv-60-69/'\n",
    "find_iv(inputpath, outputpath, startyear, endyear, hourarray, latitude, longitude)"
   ]
  },
  {
   "cell_type": "markdown",
   "metadata": {},
   "source": [
    "### 1970 to 1978"
   ]
  },
  {
   "cell_type": "code",
   "execution_count": 15,
   "metadata": {},
   "outputs": [
    {
     "name": "stdout",
     "output_type": "stream",
     "text": [
      "--- 543.79 seconds ---\n"
     ]
    }
   ],
   "source": [
    "startyear = 1970\n",
    "endyear = 1978\n",
    "inputpath = '/home/gustavo/Downloads/tcwv/tcwv-70-78.grib'\n",
    "os.system('mkdir /home/gustavo/Downloads/tcwv/interp/tcwv-70-78/')\n",
    "outputpath = '/home/gustavo/Downloads/tcwv/interp/tcwv-70-78/'\n",
    "find_iv(inputpath, outputpath, startyear, endyear, hourarray, latitude, longitude)"
   ]
  },
  {
   "cell_type": "markdown",
   "metadata": {},
   "source": [
    "### 1979 to 1991"
   ]
  },
  {
   "cell_type": "code",
   "execution_count": 16,
   "metadata": {},
   "outputs": [
    {
     "name": "stdout",
     "output_type": "stream",
     "text": [
      "--- 776.77 seconds ---\n"
     ]
    }
   ],
   "source": [
    "startyear = 1979\n",
    "endyear = 1991\n",
    "inputpath = '/home/gustavo/Downloads/tcwv/tcwv-79-91.grib'\n",
    "os.system('mkdir /home/gustavo/Downloads/tcwv/interp/tcwv-79-91/')\n",
    "outputpath = '/home/gustavo/Downloads/tcwv/interp/tcwv-79-91/'\n",
    "find_iv(inputpath, outputpath, startyear, endyear, hourarray, latitude, longitude)"
   ]
  },
  {
   "cell_type": "markdown",
   "metadata": {},
   "source": [
    "### 1992 to 2004"
   ]
  },
  {
   "cell_type": "code",
   "execution_count": 17,
   "metadata": {},
   "outputs": [
    {
     "name": "stdout",
     "output_type": "stream",
     "text": [
      "--- 752.04 seconds ---\n"
     ]
    }
   ],
   "source": [
    "startyear = 1992\n",
    "endyear = 2004\n",
    "inputpath = '/home/gustavo/Downloads/tcwv/tcwv-92-04.grib'\n",
    "os.system('mkdir /home/gustavo/Downloads/tcwv/interp/tcwv-92-04/')\n",
    "outputpath = '/home/gustavo/Downloads/tcwv/interp/tcwv-92-04/'\n",
    "find_iv(inputpath, outputpath, startyear, endyear, hourarray, latitude, longitude)"
   ]
  },
  {
   "cell_type": "markdown",
   "metadata": {},
   "source": [
    "### 2005 to 2011"
   ]
  },
  {
   "cell_type": "code",
   "execution_count": 18,
   "metadata": {},
   "outputs": [
    {
     "name": "stdout",
     "output_type": "stream",
     "text": [
      "--- 404.72 seconds ---\n"
     ]
    }
   ],
   "source": [
    "startyear = 2005\n",
    "endyear = 2011\n",
    "inputpath = '/home/gustavo/Downloads/tcwv/tcwv-05-11.grib'\n",
    "os.system('mkdir /home/gustavo/Downloads/tcwv/interp/tcwv-05-11/')\n",
    "outputpath = '/home/gustavo/Downloads/tcwv/interp/tcwv-05-11/'\n",
    "find_iv(inputpath, outputpath, startyear, endyear, hourarray, latitude, longitude)"
   ]
  },
  {
   "cell_type": "markdown",
   "metadata": {},
   "source": [
    "### 2012 to 2019"
   ]
  },
  {
   "cell_type": "code",
   "execution_count": 19,
   "metadata": {},
   "outputs": [
    {
     "name": "stdout",
     "output_type": "stream",
     "text": [
      "--- 462.08 seconds ---\n"
     ]
    }
   ],
   "source": [
    "startyear = 2012\n",
    "endyear = 2019\n",
    "inputpath = '/home/gustavo/Downloads/tcwv/tcwv-12-19.grib'\n",
    "os.system('mkdir /home/gustavo/Downloads/tcwv/interp/tcwv-12-19/')\n",
    "outputpath = '/home/gustavo/Downloads/tcwv/interp/tcwv-12-19/'\n",
    "find_iv(inputpath, outputpath, startyear, endyear, hourarray, latitude, longitude)"
   ]
  },
  {
   "cell_type": "code",
   "execution_count": 21,
   "metadata": {},
   "outputs": [],
   "source": [
    "strhour = [str(i) for i in hourarray]\n",
    "for i in strhour:\n",
    "    os.system('mkdir /home/gustavo/Downloads/tcwv/interp/' + i)"
   ]
  },
  {
   "cell_type": "code",
   "execution_count": 44,
   "metadata": {},
   "outputs": [],
   "source": [
    "f1 = os.listdir('/home/gustavo/Downloads/tcwv/interp/1-tcwv-50-59/')\n",
    "f2 = os.listdir('/home/gustavo/Downloads/tcwv/interp/2-tcwv-60-69/')\n",
    "f3 = os.listdir('/home/gustavo/Downloads/tcwv/interp/3-tcwv-70-78/')\n",
    "f4 = os.listdir('/home/gustavo/Downloads/tcwv/interp/4-tcwv-79-91/')\n",
    "f5 = os.listdir('/home/gustavo/Downloads/tcwv/interp/5-tcwv-92-04/')\n",
    "f6 = os.listdir('/home/gustavo/Downloads/tcwv/interp/6-tcwv-05-11/')\n",
    "f7 = os.listdir('/home/gustavo/Downloads/tcwv/interp/7-tcwv-12-19/')\n",
    "ff = ['/home/gustavo/Downloads/tcwv/interp/1-tcwv-50-59/', \n",
    "      '/home/gustavo/Downloads/tcwv/interp/2-tcwv-60-69/', \n",
    "      '/home/gustavo/Downloads/tcwv/interp/3-tcwv-70-78/',\n",
    "      '/home/gustavo/Downloads/tcwv/interp/4-tcwv-79-91/',\n",
    "      '/home/gustavo/Downloads/tcwv/interp/5-tcwv-92-04/',\n",
    "      '/home/gustavo/Downloads/tcwv/interp/6-tcwv-05-11/',\n",
    "      '/home/gustavo/Downloads/tcwv/interp/7-tcwv-12-19/'\n",
    "     ]\n",
    "fe = [f1, f2, f3, f4, f5, f6, f7]"
   ]
  },
  {
   "cell_type": "code",
   "execution_count": 43,
   "metadata": {},
   "outputs": [],
   "source": [
    "i = 1\n",
    "for j in ff:\n",
    "    # print(j + str(i))\n",
    "    for k in fe[i-1]:\n",
    "        currname = j + k\n",
    "        newname = j + str(i) + '-' + k\n",
    "        os.rename(currname, newname)\n",
    "    i += 1"
   ]
  },
  {
   "cell_type": "code",
   "execution_count": 52,
   "metadata": {},
   "outputs": [
    {
     "name": "stdout",
     "output_type": "stream",
     "text": [
      "/home/gustavo/Downloads/tcwv/interp/1-tcwv-50-59/\n",
      "/home/gustavo/Downloads/tcwv/interp/2-tcwv-60-69/\n",
      "/home/gustavo/Downloads/tcwv/interp/3-tcwv-70-78/\n",
      "/home/gustavo/Downloads/tcwv/interp/4-tcwv-79-91/\n",
      "/home/gustavo/Downloads/tcwv/interp/5-tcwv-92-04/\n",
      "/home/gustavo/Downloads/tcwv/interp/6-tcwv-05-11/\n",
      "/home/gustavo/Downloads/tcwv/interp/7-tcwv-12-19/\n"
     ]
    }
   ],
   "source": [
    "i = 0\n",
    "for j in ff:\n",
    "    print(j)\n",
    "    for k in fe[i]:\n",
    "        strhour = k[-6:-4]\n",
    "        inthour = int(k[-6:-4]) * 100\n",
    "        currentpath = j + k\n",
    "        newpath = '/home/gustavo/Downloads/tcwv/interp/' + str(inthour) + '/' + k\n",
    "        os.replace(currentpath, newpath)\n",
    "    i += 1"
   ]
  },
  {
   "cell_type": "markdown",
   "metadata": {},
   "source": [
    "### Function to load text file to a list"
   ]
  },
  {
   "cell_type": "code",
   "execution_count": 5,
   "metadata": {},
   "outputs": [],
   "source": [
    "def loadlist(array, name='file'):\n",
    "    with open(name, \"r\") as f:\n",
    "        for line in f:\n",
    "            array.append(float(line.strip()))"
   ]
  },
  {
   "cell_type": "markdown",
   "metadata": {},
   "source": [
    "### Interpolation for given probabilities"
   ]
  },
  {
   "cell_type": "code",
   "execution_count": 57,
   "metadata": {},
   "outputs": [],
   "source": [
    "def interp_list(x, y, new_x):\n",
    "    new_y = []\n",
    "    y_interp = interp1d(x, y, kind='linear')\n",
    "    new_y = np.array([float(y_interp(val)) for val in new_x])\n",
    "    return new_y"
   ]
  },
  {
   "cell_type": "markdown",
   "metadata": {},
   "source": [
    "### CCDF calculation and plotting"
   ]
  },
  {
   "cell_type": "code",
   "execution_count": 67,
   "metadata": {},
   "outputs": [],
   "source": [
    "def plotcdf(array, plot=1, bins=50):\n",
    "    ccdf, X, _ = plt.hist(array, bins = bins, density=True, log=True, cumulative=-1, histtype='step')\n",
    "    ccdf = np.append(ccdf * 100, 0)\n",
    "    plt.clf()\n",
    "    plt.grid(True, which=\"both\")\n",
    "    plt.semilogy(X, ccdf, label='CCDF')\n",
    "    plt.legend(loc='best')\n",
    "    plt.xlabel('IWV (mm)')\n",
    "    plt.ylabel('Probabilidad (%)')\n",
    "    plt.title('CCDF')\n",
    "    plt.show() if plot == 1 else plt.clf()\n",
    "    return X, ccdf"
   ]
  },
  {
   "cell_type": "markdown",
   "metadata": {},
   "source": [
    "### Water Vapor Attenuation"
   ]
  },
  {
   "cell_type": "code",
   "execution_count": 77,
   "metadata": {},
   "outputs": [],
   "source": [
    "wat_file = pd.read_csv('ITUFiles/wat676.csv')\n",
    "oxy_file = pd.read_csv('ITUFiles/oxy676.csv')\n",
    "fw = wat_file['fw'].to_numpy()\n",
    "b1 = wat_file['b1'].to_numpy()\n",
    "b2 = wat_file['b2'].to_numpy()\n",
    "b3 = wat_file['b3'].to_numpy()\n",
    "b4 = wat_file['b4'].to_numpy()\n",
    "b5 = wat_file['b5'].to_numpy()\n",
    "b6 = wat_file['b6'].to_numpy()\n",
    "fo = oxy_file['fo'].to_numpy()\n",
    "a1 = oxy_file['a1'].to_numpy()\n",
    "a2 = oxy_file['a2'].to_numpy()\n",
    "a3 = oxy_file['a3'].to_numpy()\n",
    "a4 = oxy_file['a4'].to_numpy()\n",
    "a5 = oxy_file['a5'].to_numpy()\n",
    "a6 = oxy_file['a6'].to_numpy()"
   ]
  },
  {
   "cell_type": "code",
   "execution_count": 78,
   "metadata": {},
   "outputs": [],
   "source": [
    "def itu676(f, p, rho, T):\n",
    "    # p: dry air presure (hPa)\n",
    "    # e: water vaour partial pressure (hPa)\n",
    "    # theta (Θ): 300/T\n",
    "    # T: Temperature\n",
    "    theta = 300/T\n",
    "    e = (rho*T)/216.7\n",
    "    So = a1 * (1e-7) * p * (theta**3) * np.exp(a2 * (1 - theta))\n",
    "    Sw = b1 * (1e-1) * e * (theta**3.5) * np.exp(b2 * (1 - theta))\n",
    "    deltao = (a5 + a6 * theta) * (1e-4) * (p + e) * (theta**0.8)\n",
    "    deltaw = 0\n",
    "    deltafo_wd = a3 * (1e-4) * (p * (theta**(0.8 - a4)) + 1.1 * e * theta)\n",
    "    deltafw_wd = b3 * (1e-4) * (p * (theta**b4) + b5 * e * (theta**b6))\n",
    "    deltafo = np.sqrt(deltafo_wd**2 + 2.25e-6)\n",
    "    deltafw = 0.535 * deltafw_wd + np.sqrt((0.217 * deltafw_wd**2) + (2.1316e-12 * (fw**2))/(theta))\n",
    "    Fo = ((f)/(fo)) * (((deltafo - deltao * (fo - f))/(deltafo**2 + (fo - f)**2))+((deltafo - deltao * (fo + f))/(deltafo**2 + (fo + f)**2)))\n",
    "    Fw = ((f)/(fw)) * (((deltafw - deltaw * (fw - f))/(deltafw**2 + (fw - f)**2))+((deltafw - deltaw * (fw + f))/(deltafw**2 + (fw + f)**2)))\n",
    "    d = (5.6e-4) * (p + e) * (theta**0.8)\n",
    "    N2Df = f * p * theta**2 * (((6.14e-5)/(d * (1+(f/d)**2)))+((1.4e-12 * p * theta**1.5)/(1 + 1.9e-5 * f**1.5)))\n",
    "    N2f = sum(Fo * So) + sum(Fw * Sw) + N2Df\n",
    "    y = 0.182 * f * N2f\n",
    "    ywv = 0.182 * f * sum(Fw * Sw)\n",
    "    yox = 0.182 * f * (sum(Fo * So) + N2Df)\n",
    "    return y, ywv, yox"
   ]
  },
  {
   "cell_type": "code",
   "execution_count": 79,
   "metadata": {},
   "outputs": [],
   "source": [
    "def get_elevation(lat, lon):\n",
    "    key = 'Ai9NLeGblweg0P_Br_bKnbLVkkRgbG6RlH4k5FrbBctSqD32KHMuFQmRyX-apadI'\n",
    "    url = 'https://dev.virtualearth.net/REST/v1/Elevation/List?key=' + key + '&points=' + str(lat) + ',' + str(lon)\n",
    "    response = urllib.request.urlopen(url)\n",
    "    data = json.loads(response.read().decode())\n",
    "    elevation = data['resourceSets'][0]['resources'][0]['elevations'][0]\n",
    "    return elevation, elevation / 1000"
   ]
  },
  {
   "cell_type": "code",
   "execution_count": 80,
   "metadata": {},
   "outputs": [],
   "source": [
    "def calc_at(daily_tcwv, freq, lat, lon):\n",
    "    freq = [freq] if type(freq)!=list else freq\n",
    "    daily_at = [np.empty(0)] * len(freq)\n",
    "    f_ref = 20.6\n",
    "    p_ref = 845\n",
    "    hs = get_elevation(lat,lon)[1]\n",
    "    c = 0\n",
    "    for f in freq:\n",
    "        a = 0.2048 * np.exp(-((f-22.43)/(3.097))**2) + 0.2326 * np.exp(-((f-183.5)/(4.096))**2) + 0.2073 * np.exp(-((f-325)/(3.651))**2) - 0.1113\n",
    "        b = 8.741e4 * np.exp(-0.587 * f) + 312.2 * f ** -2.38 + 0.723\n",
    "        if hs < 0:\n",
    "            h = 0\n",
    "        elif hs >= 0 and hs < 4:\n",
    "            h = hs\n",
    "        else:\n",
    "            h = 4\n",
    "        # print(a)\n",
    "        # print(b)\n",
    "        for iwv in daily_tcwv:\n",
    "            rho_vref = iwv / 2.38\n",
    "            t_ref = 14 * np.log(0.22*iwv/2.38) + 3 + 273.15\n",
    "            if f <= 20:\n",
    "                a_w = (0.0176 * iwv * itu676(f, p_ref, rho_vref, t_ref)[1])/(itu676(f_ref, p_ref, rho_vref, t_ref)[1])\n",
    "            else:\n",
    "                a_w = (a * (h ** b) + 1)*(0.0176 * iwv * itu676(f, p_ref, rho_vref, t_ref)[1])/(itu676(f_ref, p_ref, rho_vref, t_ref)[1])\n",
    "            daily_at[c] = np.append(daily_at[c], a_w)\n",
    "        c += 1\n",
    "    return daily_at"
   ]
  },
  {
   "cell_type": "markdown",
   "metadata": {},
   "source": [
    "### Probabilities for the CCDF"
   ]
  },
  {
   "cell_type": "code",
   "execution_count": 59,
   "metadata": {},
   "outputs": [],
   "source": [
    "prob_nom = [0.1, 0.2, 0.3, 0.5, 1, 2, 3, 5, 10, 20, 30, 50, 60, 70, 80, 90, 95, 99]"
   ]
  },
  {
   "cell_type": "markdown",
   "metadata": {},
   "source": [
    "### Data for 00:00"
   ]
  },
  {
   "cell_type": "code",
   "execution_count": 62,
   "metadata": {},
   "outputs": [],
   "source": [
    "t1 = []\n",
    "t2 = []\n",
    "t3 = []\n",
    "t4 = []\n",
    "t5 = []\n",
    "t6 = []\n",
    "t7 = []\n",
    "loadlist(t1, '/home/gustavo/Downloads/tcwv/interp/0/1-itcwv_00.txt')\n",
    "loadlist(t2, '/home/gustavo/Downloads/tcwv/interp/0/2-itcwv_00.txt')\n",
    "loadlist(t3, '/home/gustavo/Downloads/tcwv/interp/0/3-itcwv_00.txt')\n",
    "loadlist(t4, '/home/gustavo/Downloads/tcwv/interp/0/4-itcwv_00.txt')\n",
    "loadlist(t5, '/home/gustavo/Downloads/tcwv/interp/0/5-itcwv_00.txt')\n",
    "loadlist(t6, '/home/gustavo/Downloads/tcwv/interp/0/6-itcwv_00.txt')\n",
    "loadlist(t7, '/home/gustavo/Downloads/tcwv/interp/0/7-itcwv_00.txt')\n",
    "\n",
    "tt = t1 + t2 + t3 + t4 + t5 + t6 + t7"
   ]
  },
  {
   "cell_type": "code",
   "execution_count": 74,
   "metadata": {},
   "outputs": [
    {
     "data": {
      "image/png": "[encoded data removed]",
      "text/plain": [
       "<Figure size 432x288 with 1 Axes>"
      ]
     },
     "metadata": {
      "needs_background": "light"
     },
     "output_type": "display_data"
    }
   ],
   "source": [
    "X, ccdf = plotcdf(tt, 0)\n",
    "Xn = interp_list(ccdf, X, prob_nom)\n",
    "plt.semilogy(Xn, prob_nom)\n",
    "plt.grid(True, which=\"both\", alpha=0.5)\n",
    "plt.title('CCDF of IWV, 00:00 at El Alto')\n",
    "plt.xlabel('IWV (mm)')\n",
    "plt.ylabel('Percentage (%)')\n",
    "plt.show()"
   ]
  },
  {
   "cell_type": "code",
   "execution_count": 81,
   "metadata": {},
   "outputs": [],
   "source": [
    "at_20, at_40, at_50, at_75 = calc_at(Xn, [20, 40, 50, 75], -16.51, -68.17)"
   ]
  },
  {
   "cell_type": "code",
   "execution_count": 86,
   "metadata": {},
   "outputs": [
    {
     "data": {
      "image/png": "[encoded data removed]",
      "text/plain": [
       "<Figure size 432x288 with 1 Axes>"
      ]
     },
     "metadata": {
      "needs_background": "light"
     },
     "output_type": "display_data"
    }
   ],
   "source": [
    "plt.grid(True, which=\"both\", alpha=0.5)\n",
    "plt.semilogy(at_20, prob_nom, label='20 GHz')\n",
    "plt.semilogy(at_40, prob_nom, label='40 GHz')\n",
    "plt.semilogy(at_50, prob_nom, label='50 GHz')\n",
    "plt.semilogy(at_75, prob_nom, label='75 GHz')\n",
    "plt.legend(loc='best')\n",
    "plt.title('El Alto using data from 00:00')\n",
    "plt.xlabel('Atenuacion por vapor de agua (dB)')\n",
    "plt.ylabel('Probabilidad (%)')\n",
    "plt.show()"
   ]
  },
  {
   "cell_type": "code",
   "execution_count": 83,
   "metadata": {},
   "outputs": [],
   "source": [
    "dfindex = ['Probabilities', 'IWV', 'A20', 'A40', 'A50', 'A75']\n",
    "results = pd.DataFrame(np.column_stack([prob_nom, Xn, at_20, at_40, at_50, at_75]), columns=dfindex)\n",
    "outputpath = '/home/gustavo/Downloads/tcwv/interp/0/'\n",
    "name = 'CCDF_ERA5-00.csv'\n",
    "results.to_csv(outputpath + name, index=False)"
   ]
  },
  {
   "cell_type": "markdown",
   "metadata": {},
   "source": [
    "### Data for 12:00"
   ]
  },
  {
   "cell_type": "code",
   "execution_count": 94,
   "metadata": {},
   "outputs": [],
   "source": [
    "t1 = []\n",
    "t2 = []\n",
    "t3 = []\n",
    "t4 = []\n",
    "t5 = []\n",
    "t6 = []\n",
    "t7 = []\n",
    "loadlist(t1, '/home/gustavo/Downloads/tcwv/interp/1200/1-itcwv_12.txt')\n",
    "loadlist(t2, '/home/gustavo/Downloads/tcwv/interp/1200/2-itcwv_12.txt')\n",
    "loadlist(t3, '/home/gustavo/Downloads/tcwv/interp/1200/3-itcwv_12.txt')\n",
    "loadlist(t4, '/home/gustavo/Downloads/tcwv/interp/1200/4-itcwv_12.txt')\n",
    "loadlist(t5, '/home/gustavo/Downloads/tcwv/interp/1200/5-itcwv_12.txt')\n",
    "loadlist(t6, '/home/gustavo/Downloads/tcwv/interp/1200/6-itcwv_12.txt')\n",
    "loadlist(t7, '/home/gustavo/Downloads/tcwv/interp/1200/7-itcwv_12.txt')\n",
    "\n",
    "tt = t1 + t2 + t3 + t4 + t5 + t6 + t7"
   ]
  },
  {
   "cell_type": "code",
   "execution_count": 95,
   "metadata": {},
   "outputs": [
    {
     "data": {
      "image/png": "[encoded data removed]",
      "text/plain": [
       "<Figure size 432x288 with 1 Axes>"
      ]
     },
     "metadata": {
      "needs_background": "light"
     },
     "output_type": "display_data"
    }
   ],
   "source": [
    "X, ccdf = plotcdf(tt, 0)\n",
    "Xn = interp_list(ccdf, X, prob_nom)\n",
    "plt.semilogy(Xn, prob_nom)\n",
    "plt.grid(True, which=\"both\", alpha=0.5)\n",
    "plt.title('CCDF of IWV, 12:00 at El Alto')\n",
    "plt.xlabel('IWV (mm)')\n",
    "plt.ylabel('Percentage (%)')\n",
    "plt.show()"
   ]
  },
  {
   "cell_type": "code",
   "execution_count": 97,
   "metadata": {},
   "outputs": [],
   "source": [
    "at_20, at_40, at_50, at_75 = calc_at(Xn, [20, 40, 50, 75], -16.51, -68.17)"
   ]
  },
  {
   "cell_type": "code",
   "execution_count": 98,
   "metadata": {},
   "outputs": [
    {
     "data": {
      "image/png": "[encoded data removed]",
      "text/plain": [
       "<Figure size 432x288 with 1 Axes>"
      ]
     },
     "metadata": {
      "needs_background": "light"
     },
     "output_type": "display_data"
    }
   ],
   "source": [
    "plt.grid(True, which=\"both\", alpha=0.5)\n",
    "plt.semilogy(at_20, prob_nom, label='20 GHz')\n",
    "plt.semilogy(at_40, prob_nom, label='40 GHz')\n",
    "plt.semilogy(at_50, prob_nom, label='50 GHz')\n",
    "plt.semilogy(at_75, prob_nom, label='75 GHz')\n",
    "plt.legend(loc='best')\n",
    "plt.title('El Alto using data from 12:00')\n",
    "plt.xlabel('Atenuacion por vapor de agua (dB)')\n",
    "plt.ylabel('Probabilidad (%)')\n",
    "plt.show()"
   ]
  },
  {
   "cell_type": "code",
   "execution_count": 99,
   "metadata": {},
   "outputs": [],
   "source": [
    "dfindex = ['Probabilities', 'IWV', 'A20', 'A40', 'A50', 'A75']\n",
    "results = pd.DataFrame(np.column_stack([prob_nom, Xn, at_20, at_40, at_50, at_75]), columns=dfindex)\n",
    "outputpath = '/home/gustavo/Downloads/tcwv/interp/1200/'\n",
    "name = 'CCDF_ERA5-1200.csv'\n",
    "results.to_csv(outputpath + name, index=False)"
   ]
  },
  {
   "cell_type": "code",
   "execution_count": 107,
   "metadata": {},
   "outputs": [
    {
     "data": {
      "text/plain": [
       "613608"
      ]
     },
     "execution_count": 107,
     "metadata": {},
     "output_type": "execute_result"
    }
   ],
   "source": [
    "hourarray = np.arange(0,2400,100).tolist()\n",
    "strhour = [str(i) for i  in hourarray]\n",
    "path = '/home/gustavo/Downloads/tcwv/interp/'\n",
    "\n",
    "tt = []\n",
    "for i in strhour:\n",
    "    for j in os.listdir(path + i):\n",
    "        loadlist(tt, path + i + '/' + j)\n",
    "\n",
    "len(tt)"
   ]
  },
  {
   "cell_type": "code",
   "execution_count": 109,
   "metadata": {},
   "outputs": [
    {
     "data": {
      "image/png": "[encoded data removed]",
      "text/plain": [
       "<Figure size 432x288 with 1 Axes>"
      ]
     },
     "metadata": {
      "needs_background": "light"
     },
     "output_type": "display_data"
    }
   ],
   "source": [
    "X, ccdf = plotcdf(tt, 0)\n",
    "Xn = interp_list(ccdf, X, prob_nom)\n",
    "plt.semilogy(Xn, prob_nom)\n",
    "plt.grid(True, which=\"both\", alpha=0.5)\n",
    "plt.title('CCDF of IWV, 24 hours data at El Alto')\n",
    "plt.xlabel('IWV (mm)')\n",
    "plt.ylabel('Percentage (%)')\n",
    "plt.show()"
   ]
  },
  {
   "cell_type": "code",
   "execution_count": 110,
   "metadata": {},
   "outputs": [],
   "source": [
    "at_20, at_40, at_50, at_75 = calc_at(Xn, [20, 40, 50, 75], -16.51, -68.17)"
   ]
  },
  {
   "cell_type": "code",
   "execution_count": 111,
   "metadata": {},
   "outputs": [
    {
     "data": {
      "image/png": "[encoded data removed]",
      "text/plain": [
       "<Figure size 432x288 with 1 Axes>"
      ]
     },
     "metadata": {
      "needs_background": "light"
     },
     "output_type": "display_data"
    }
   ],
   "source": [
    "plt.grid(True, which=\"both\", alpha=0.5)\n",
    "plt.semilogy(at_20, prob_nom, label='20 GHz')\n",
    "plt.semilogy(at_40, prob_nom, label='40 GHz')\n",
    "plt.semilogy(at_50, prob_nom, label='50 GHz')\n",
    "plt.semilogy(at_75, prob_nom, label='75 GHz')\n",
    "plt.legend(loc='best')\n",
    "plt.title('El Alto using data from 24 hours')\n",
    "plt.xlabel('Atenuacion por vapor de agua (dB)')\n",
    "plt.ylabel('Probabilidad (%)')\n",
    "plt.show()"
   ]
  },
  {
   "cell_type": "code",
   "execution_count": 112,
   "metadata": {},
   "outputs": [],
   "source": [
    "dfindex = ['Probabilities', 'IWV', 'A20', 'A40', 'A50', 'A75']\n",
    "results = pd.DataFrame(np.column_stack([prob_nom, Xn, at_20, at_40, at_50, at_75]), columns=dfindex)\n",
    "outputpath = '/home/gustavo/Downloads/tcwv/interp/csv-results/'\n",
    "name = 'CCDF_ERA5-00-24.csv'\n",
    "results.to_csv(outputpath + name, index=False)"
   ]
  },
  {
   "cell_type": "code",
   "execution_count": 113,
   "metadata": {},
   "outputs": [],
   "source": [
    "df0 = pd.read_csv('/home/gustavo/Downloads/tcwv/interp/csv-results/CCDF_ERA5-00.csv')\n",
    "df12 = pd.read_csv('/home/gustavo/Downloads/tcwv/interp/csv-results/CCDF_ERA5-1200.csv')\n",
    "dft = pd.read_csv('/home/gustavo/Downloads/tcwv/interp/csv-results/CCDF_ERA5-00-24.csv')"
   ]
  },
  {
   "cell_type": "code",
   "execution_count": 115,
   "metadata": {},
   "outputs": [
    {
     "data": {
      "image/png": "[encoded data removed]",
      "text/plain": [
       "<Figure size 432x288 with 1 Axes>"
      ]
     },
     "metadata": {
      "needs_background": "light"
     },
     "output_type": "display_data"
    }
   ],
   "source": [
    "plt.grid(True, which=\"both\", alpha=0.5)\n",
    "#plt.xlim(0, 0.6)\n",
    "plt.semilogy(df0['A20'], prob_nom, label='20 GHz: 00:00')\n",
    "plt.semilogy(df0['A40'], prob_nom, label='40 GHz: 00:00')\n",
    "plt.semilogy(df0['A50'], prob_nom, label='50 GHz: 00:00')\n",
    "plt.semilogy(df0['A75'], prob_nom, label='75 GHz: 00:00')\n",
    "plt.semilogy(df12['A20'], prob_nom, label='20 GHz: 12:00', ls='--', c='C0')\n",
    "plt.semilogy(df12['A40'], prob_nom, label='40 GHz: 12:00', ls='--', c='C1')\n",
    "plt.semilogy(df12['A50'], prob_nom, label='50 GHz: 12:00', ls='--', c='C2')\n",
    "plt.semilogy(df12['A75'], prob_nom, label='75 GHz: 12:00', ls='--', c='C3')\n",
    "plt.semilogy(dft['A20'], prob_nom, label='20 GHz: 24 hours', ls=':', c='C0')\n",
    "plt.semilogy(dft['A40'], prob_nom, label='40 GHz: 24 hours', ls=':', c='C1')\n",
    "plt.semilogy(dft['A50'], prob_nom, label='50 GHz: 24 hours', ls=':', c='C2')\n",
    "plt.semilogy(dft['A75'], prob_nom, label='75 GHz: 24 hours', ls=':', c='C3')\n",
    "#plt.legend(loc='best')\n",
    "plt.legend(bbox_to_anchor=(1.04,1), loc=\"upper left\")\n",
    "plt.title('El Alto')\n",
    "plt.xlabel('Atenuacion por vapor de agua (dB)')\n",
    "plt.ylabel('Probabilidad (%)')\n",
    "plt.show()"
   ]
  },
  {
   "cell_type": "code",
   "execution_count": 118,
   "metadata": {},
   "outputs": [
    {
     "data": {
      "text/html": [
       "<div>\n",
       "<style scoped>\n",
       "    .dataframe tbody tr th:only-of-type {\n",
       "        vertical-align: middle;\n",
       "    }\n",
       "\n",
       "    .dataframe tbody tr th {\n",
       "        vertical-align: top;\n",
       "    }\n",
       "\n",
       "    .dataframe thead th {\n",
       "        text-align: right;\n",
       "    }\n",
       "</style>\n",
       "<table border=\"1\" class=\"dataframe\">\n",
       "  <thead>\n",
       "    <tr style=\"text-align: right;\">\n",
       "      <th></th>\n",
       "      <th>Probabilities</th>\n",
       "      <th>IWV</th>\n",
       "      <th>A20</th>\n",
       "      <th>A40</th>\n",
       "      <th>A50</th>\n",
       "      <th>A75</th>\n",
       "    </tr>\n",
       "  </thead>\n",
       "  <tbody>\n",
       "    <tr>\n",
       "      <th>0</th>\n",
       "      <td>0.1</td>\n",
       "      <td>15.455952</td>\n",
       "      <td>0.209481</td>\n",
       "      <td>0.103330</td>\n",
       "      <td>0.148176</td>\n",
       "      <td>0.321941</td>\n",
       "    </tr>\n",
       "    <tr>\n",
       "      <th>1</th>\n",
       "      <td>0.2</td>\n",
       "      <td>15.177486</td>\n",
       "      <td>0.205693</td>\n",
       "      <td>0.101430</td>\n",
       "      <td>0.145449</td>\n",
       "      <td>0.316013</td>\n",
       "    </tr>\n",
       "    <tr>\n",
       "      <th>2</th>\n",
       "      <td>0.3</td>\n",
       "      <td>14.992287</td>\n",
       "      <td>0.203174</td>\n",
       "      <td>0.100168</td>\n",
       "      <td>0.143639</td>\n",
       "      <td>0.312080</td>\n",
       "    </tr>\n",
       "    <tr>\n",
       "      <th>3</th>\n",
       "      <td>0.5</td>\n",
       "      <td>14.762521</td>\n",
       "      <td>0.200050</td>\n",
       "      <td>0.098606</td>\n",
       "      <td>0.141398</td>\n",
       "      <td>0.307211</td>\n",
       "    </tr>\n",
       "    <tr>\n",
       "      <th>4</th>\n",
       "      <td>1.0</td>\n",
       "      <td>14.408245</td>\n",
       "      <td>0.195235</td>\n",
       "      <td>0.096205</td>\n",
       "      <td>0.137953</td>\n",
       "      <td>0.299725</td>\n",
       "    </tr>\n",
       "    <tr>\n",
       "      <th>5</th>\n",
       "      <td>2.0</td>\n",
       "      <td>13.996455</td>\n",
       "      <td>0.189641</td>\n",
       "      <td>0.093423</td>\n",
       "      <td>0.133964</td>\n",
       "      <td>0.291057</td>\n",
       "    </tr>\n",
       "    <tr>\n",
       "      <th>6</th>\n",
       "      <td>3.0</td>\n",
       "      <td>13.718849</td>\n",
       "      <td>0.185872</td>\n",
       "      <td>0.091554</td>\n",
       "      <td>0.131283</td>\n",
       "      <td>0.285234</td>\n",
       "    </tr>\n",
       "    <tr>\n",
       "      <th>7</th>\n",
       "      <td>5.0</td>\n",
       "      <td>13.303772</td>\n",
       "      <td>0.180238</td>\n",
       "      <td>0.088767</td>\n",
       "      <td>0.127289</td>\n",
       "      <td>0.276557</td>\n",
       "    </tr>\n",
       "    <tr>\n",
       "      <th>8</th>\n",
       "      <td>10.0</td>\n",
       "      <td>12.600654</td>\n",
       "      <td>0.170702</td>\n",
       "      <td>0.084071</td>\n",
       "      <td>0.120558</td>\n",
       "      <td>0.261938</td>\n",
       "    </tr>\n",
       "    <tr>\n",
       "      <th>9</th>\n",
       "      <td>20.0</td>\n",
       "      <td>11.522077</td>\n",
       "      <td>0.156089</td>\n",
       "      <td>0.076922</td>\n",
       "      <td>0.110318</td>\n",
       "      <td>0.239703</td>\n",
       "    </tr>\n",
       "    <tr>\n",
       "      <th>10</th>\n",
       "      <td>30.0</td>\n",
       "      <td>10.510455</td>\n",
       "      <td>0.142400</td>\n",
       "      <td>0.070274</td>\n",
       "      <td>0.100801</td>\n",
       "      <td>0.219045</td>\n",
       "    </tr>\n",
       "    <tr>\n",
       "      <th>11</th>\n",
       "      <td>50.0</td>\n",
       "      <td>8.427824</td>\n",
       "      <td>0.114261</td>\n",
       "      <td>0.056745</td>\n",
       "      <td>0.081446</td>\n",
       "      <td>0.177049</td>\n",
       "    </tr>\n",
       "    <tr>\n",
       "      <th>12</th>\n",
       "      <td>60.0</td>\n",
       "      <td>7.301728</td>\n",
       "      <td>0.099066</td>\n",
       "      <td>0.049500</td>\n",
       "      <td>0.071089</td>\n",
       "      <td>0.154586</td>\n",
       "    </tr>\n",
       "    <tr>\n",
       "      <th>13</th>\n",
       "      <td>70.0</td>\n",
       "      <td>6.078612</td>\n",
       "      <td>0.082571</td>\n",
       "      <td>0.041668</td>\n",
       "      <td>0.059896</td>\n",
       "      <td>0.130313</td>\n",
       "    </tr>\n",
       "    <tr>\n",
       "      <th>14</th>\n",
       "      <td>80.0</td>\n",
       "      <td>4.726396</td>\n",
       "      <td>0.064337</td>\n",
       "      <td>0.033022</td>\n",
       "      <td>0.047539</td>\n",
       "      <td>0.103518</td>\n",
       "    </tr>\n",
       "    <tr>\n",
       "      <th>15</th>\n",
       "      <td>90.0</td>\n",
       "      <td>3.168159</td>\n",
       "      <td>0.043305</td>\n",
       "      <td>0.022988</td>\n",
       "      <td>0.033193</td>\n",
       "      <td>0.072399</td>\n",
       "    </tr>\n",
       "    <tr>\n",
       "      <th>16</th>\n",
       "      <td>95.0</td>\n",
       "      <td>2.233403</td>\n",
       "      <td>0.030659</td>\n",
       "      <td>0.016853</td>\n",
       "      <td>0.024408</td>\n",
       "      <td>0.053329</td>\n",
       "    </tr>\n",
       "    <tr>\n",
       "      <th>17</th>\n",
       "      <td>99.0</td>\n",
       "      <td>1.180844</td>\n",
       "      <td>0.016355</td>\n",
       "      <td>0.009679</td>\n",
       "      <td>0.014104</td>\n",
       "      <td>0.030923</td>\n",
       "    </tr>\n",
       "  </tbody>\n",
       "</table>\n",
       "</div>"
      ],
      "text/plain": [
       "    Probabilities        IWV       A20       A40       A50       A75\n",
       "0             0.1  15.455952  0.209481  0.103330  0.148176  0.321941\n",
       "1             0.2  15.177486  0.205693  0.101430  0.145449  0.316013\n",
       "2             0.3  14.992287  0.203174  0.100168  0.143639  0.312080\n",
       "3             0.5  14.762521  0.200050  0.098606  0.141398  0.307211\n",
       "4             1.0  14.408245  0.195235  0.096205  0.137953  0.299725\n",
       "5             2.0  13.996455  0.189641  0.093423  0.133964  0.291057\n",
       "6             3.0  13.718849  0.185872  0.091554  0.131283  0.285234\n",
       "7             5.0  13.303772  0.180238  0.088767  0.127289  0.276557\n",
       "8            10.0  12.600654  0.170702  0.084071  0.120558  0.261938\n",
       "9            20.0  11.522077  0.156089  0.076922  0.110318  0.239703\n",
       "10           30.0  10.510455  0.142400  0.070274  0.100801  0.219045\n",
       "11           50.0   8.427824  0.114261  0.056745  0.081446  0.177049\n",
       "12           60.0   7.301728  0.099066  0.049500  0.071089  0.154586\n",
       "13           70.0   6.078612  0.082571  0.041668  0.059896  0.130313\n",
       "14           80.0   4.726396  0.064337  0.033022  0.047539  0.103518\n",
       "15           90.0   3.168159  0.043305  0.022988  0.033193  0.072399\n",
       "16           95.0   2.233403  0.030659  0.016853  0.024408  0.053329\n",
       "17           99.0   1.180844  0.016355  0.009679  0.014104  0.030923"
      ]
     },
     "metadata": {},
     "output_type": "display_data"
    }
   ],
   "source": [
    "display(dft)"
   ]
  },
  {
   "cell_type": "code",
   "execution_count": 7,
   "metadata": {},
   "outputs": [
    {
     "data": {
      "text/plain": [
       "25567"
      ]
     },
     "execution_count": 7,
     "metadata": {},
     "output_type": "execute_result"
    }
   ],
   "source": [
    "hour = '1200'\n",
    "path = 'TCWV/ElAlto/Data-50-19/'\n",
    "tt12 = []\n",
    "\n",
    "for j in os.listdir(path + hour):\n",
    "    loadlist(tt12, path + hour + '/' + j)\n",
    "\n",
    "len(tt12)"
   ]
  },
  {
   "cell_type": "code",
   "execution_count": 20,
   "metadata": {},
   "outputs": [
    {
     "name": "stdout",
     "output_type": "stream",
     "text": [
      "3652\n",
      "7305\n",
      "10957\n",
      "14610\n",
      "18262\n",
      "21915\n",
      "25567\n"
     ]
    }
   ],
   "source": [
    "aux = 0\n",
    "for i in range(7):\n",
    "    aux += len(create_dates(1950 + 10*i, 1959 + 10*i)[0])\n",
    "    print(aux)\n"
   ]
  },
  {
   "cell_type": "code",
   "execution_count": 32,
   "metadata": {},
   "outputs": [
    {
     "name": "stdout",
     "output_type": "stream",
     "text": [
      "[[1, 2], [3, 4, 5], [6, 7], [8, 9, 10], [11, 12], [13, 14, 15], [16, 17]]\n"
     ]
    }
   ],
   "source": [
    "a = np.arange(1,18,1).tolist()\n",
    "b = [0,2,5,7,10,12,15,17]\n",
    "t = [0]*7\n",
    "for i in range(len(t)):\n",
    "    t[i] = a[b[i]:b[i+1]]\n",
    "    \n",
    "print(t)"
   ]
  }
 ],
 "metadata": {
  "kernelspec": {
   "display_name": "Python 3",
   "language": "python",
   "name": "python3"
  },
  "language_info": {
   "codemirror_mode": {
    "name": "ipython",
    "version": 3
   },
   "file_extension": ".py",
   "mimetype": "text/x-python",
   "name": "python",
   "nbconvert_exporter": "python",
   "pygments_lexer": "ipython3",
   "version": "3.9.0"
  }
 },
 "nbformat": 4,
 "nbformat_minor": 4
}
