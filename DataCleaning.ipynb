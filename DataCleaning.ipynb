{
 "cells": [
  {
   "cell_type": "markdown",
   "metadata": {},
   "source": [
    "## Needed Libraries\n",
    "**Pandas** is used to load text files and clean the data  \n",
    "**Numpy** is used to interpolate the values at the desired location  \n",
    "**Time** is used to measure execution times  \n",
    "**os** is used to run terminal commands"
   ]
  },
  {
   "cell_type": "code",
   "execution_count": 153,
   "metadata": {},
   "outputs": [],
   "source": [
    "import pandas as pd\n",
    "import numpy as np\n",
    "import time\n",
    "import os"
   ]
  },
  {
   "cell_type": "markdown",
   "metadata": {},
   "source": [
    "## Cleaning Process\n",
    "First an example step by step is going to be shown"
   ]
  },
  {
   "cell_type": "markdown",
   "metadata": {},
   "source": [
    "### Data Extraction\n",
    "Here we'll use ecCodes, installation instructions can be found [here](https://confluence.ecmwf.int/display/ECC/ecCodes+installation).<br />\n",
    "We'll use the command *[grib_get_data](https://confluence.ecmwf.int/display/ECC/grib_get_data)* to extract the values. <br />\n",
    "The command looks like this:<br />\n",
    "*grib_get_data -p dataDate,dataTime tcwv_lg.grib > tcwv_lg.txt*<br />\n",
    "This will also show the date and hour of each value, and this will be saved in a text file."
   ]
  },
  {
   "cell_type": "code",
   "execution_count": 13,
   "metadata": {},
   "outputs": [],
   "source": [
    "%%bash\n",
    "grib_get_data -p dataDate,dataTime RawData/tcwv_lg.grib > TCWV/LaGuardia/tcwv_lg.txt"
   ]
  },
  {
   "cell_type": "markdown",
   "metadata": {},
   "source": [
    "Extracted Data initially looks like this:"
   ]
  },
  {
   "cell_type": "code",
   "execution_count": 14,
   "metadata": {},
   "outputs": [
    {
     "name": "stdout",
     "output_type": "stream",
     "text": [
      "Latitude, Longitude, Value, dataDate, dataTime\n",
      "  -17.750  -63.500 4.5928085327e+01 19790101 0\n",
      "  -17.750  -63.250 5.0115585327e+01 19790101 0\n",
      "  -18.000  -63.500 4.2574569702e+01 19790101 0\n",
      "  -18.000  -63.250 4.7613632202e+01 19790101 0\n",
      "Latitude, Longitude, Value, dataDate, dataTime\n",
      "  -17.750  -63.500 4.8029144287e+01 19790101 600\n"
     ]
    }
   ],
   "source": [
    "%%bash\n",
    "cat TCWV/LaGuardia/tcwv_lg.txt | head -n7"
   ]
  },
  {
   "cell_type": "markdown",
   "metadata": {},
   "source": [
    "### Data Loading\n",
    "We'll use [*read_csv*](https://pandas.pydata.org/pandas-docs/stable/reference/api/pandas.read_csv.html) to load the data and we'll specify the path of the file and that separators are spaces"
   ]
  },
  {
   "cell_type": "code",
   "execution_count": 17,
   "metadata": {},
   "outputs": [],
   "source": [
    "df = pd.read_csv('TCWV/LaGuardia/tcwv_lg.txt', sep='\\s+')"
   ]
  },
  {
   "cell_type": "markdown",
   "metadata": {},
   "source": [
    "We'll use [*head()*](https://pandas.pydata.org/pandas-docs/stable/reference/api/pandas.DataFrame.head.html) to display the first lines of the dataframe <br />\n",
    "Here we can see a couple of things:\n",
    " - Column indexes contain an extra comma at the end of the word\n",
    " - Column indexes are included for each point\n",
    " - Values were loaded as strings"
   ]
  },
  {
   "cell_type": "code",
   "execution_count": 20,
   "metadata": {},
   "outputs": [
    {
     "data": {
      "text/html": [
       "<div>\n",
       "<style scoped>\n",
       "    .dataframe tbody tr th:only-of-type {\n",
       "        vertical-align: middle;\n",
       "    }\n",
       "\n",
       "    .dataframe tbody tr th {\n",
       "        vertical-align: top;\n",
       "    }\n",
       "\n",
       "    .dataframe thead th {\n",
       "        text-align: right;\n",
       "    }\n",
       "</style>\n",
       "<table border=\"1\" class=\"dataframe\">\n",
       "  <thead>\n",
       "    <tr style=\"text-align: right;\">\n",
       "      <th></th>\n",
       "      <th>Latitude,</th>\n",
       "      <th>Longitude,</th>\n",
       "      <th>Value,</th>\n",
       "      <th>dataDate,</th>\n",
       "      <th>dataTime</th>\n",
       "    </tr>\n",
       "  </thead>\n",
       "  <tbody>\n",
       "    <tr>\n",
       "      <th>0</th>\n",
       "      <td>-17.750</td>\n",
       "      <td>-63.500</td>\n",
       "      <td>4.5928085327e+01</td>\n",
       "      <td>19790101</td>\n",
       "      <td>0</td>\n",
       "    </tr>\n",
       "    <tr>\n",
       "      <th>1</th>\n",
       "      <td>-17.750</td>\n",
       "      <td>-63.250</td>\n",
       "      <td>5.0115585327e+01</td>\n",
       "      <td>19790101</td>\n",
       "      <td>0</td>\n",
       "    </tr>\n",
       "    <tr>\n",
       "      <th>2</th>\n",
       "      <td>-18.000</td>\n",
       "      <td>-63.500</td>\n",
       "      <td>4.2574569702e+01</td>\n",
       "      <td>19790101</td>\n",
       "      <td>0</td>\n",
       "    </tr>\n",
       "    <tr>\n",
       "      <th>3</th>\n",
       "      <td>-18.000</td>\n",
       "      <td>-63.250</td>\n",
       "      <td>4.7613632202e+01</td>\n",
       "      <td>19790101</td>\n",
       "      <td>0</td>\n",
       "    </tr>\n",
       "    <tr>\n",
       "      <th>4</th>\n",
       "      <td>Latitude,</td>\n",
       "      <td>Longitude,</td>\n",
       "      <td>Value,</td>\n",
       "      <td>dataDate,</td>\n",
       "      <td>dataTime</td>\n",
       "    </tr>\n",
       "    <tr>\n",
       "      <th>5</th>\n",
       "      <td>-17.750</td>\n",
       "      <td>-63.500</td>\n",
       "      <td>4.8029144287e+01</td>\n",
       "      <td>19790101</td>\n",
       "      <td>600</td>\n",
       "    </tr>\n",
       "    <tr>\n",
       "      <th>6</th>\n",
       "      <td>-17.750</td>\n",
       "      <td>-63.250</td>\n",
       "      <td>5.2900238037e+01</td>\n",
       "      <td>19790101</td>\n",
       "      <td>600</td>\n",
       "    </tr>\n",
       "  </tbody>\n",
       "</table>\n",
       "</div>"
      ],
      "text/plain": [
       "   Latitude,  Longitude,            Value,  dataDate,  dataTime\n",
       "0    -17.750     -63.500  4.5928085327e+01   19790101         0\n",
       "1    -17.750     -63.250  5.0115585327e+01   19790101         0\n",
       "2    -18.000     -63.500  4.2574569702e+01   19790101         0\n",
       "3    -18.000     -63.250  4.7613632202e+01   19790101         0\n",
       "4  Latitude,  Longitude,            Value,  dataDate,  dataTime\n",
       "5    -17.750     -63.500  4.8029144287e+01   19790101       600\n",
       "6    -17.750     -63.250  5.2900238037e+01   19790101       600"
      ]
     },
     "execution_count": 20,
     "metadata": {},
     "output_type": "execute_result"
    }
   ],
   "source": [
    "df.head(7)"
   ]
  },
  {
   "cell_type": "markdown",
   "metadata": {},
   "source": [
    "### Changing the column indexes\n",
    "We'll remove the extra comma in each column index. <br />\n",
    "First we'll store the current column indexes in the variable *col_ind*<br />\n",
    "And after that we'll use [*rename()*](https://pandas.pydata.org/pandas-docs/stable/reference/api/pandas.DataFrame.rename.html) to change the name of each column index."
   ]
  },
  {
   "cell_type": "code",
   "execution_count": 23,
   "metadata": {},
   "outputs": [
    {
     "data": {
      "text/html": [
       "<div>\n",
       "<style scoped>\n",
       "    .dataframe tbody tr th:only-of-type {\n",
       "        vertical-align: middle;\n",
       "    }\n",
       "\n",
       "    .dataframe tbody tr th {\n",
       "        vertical-align: top;\n",
       "    }\n",
       "\n",
       "    .dataframe thead th {\n",
       "        text-align: right;\n",
       "    }\n",
       "</style>\n",
       "<table border=\"1\" class=\"dataframe\">\n",
       "  <thead>\n",
       "    <tr style=\"text-align: right;\">\n",
       "      <th></th>\n",
       "      <th>Latitude</th>\n",
       "      <th>Longitude</th>\n",
       "      <th>Value</th>\n",
       "      <th>dataDate</th>\n",
       "      <th>dataTime</th>\n",
       "    </tr>\n",
       "  </thead>\n",
       "  <tbody>\n",
       "    <tr>\n",
       "      <th>0</th>\n",
       "      <td>-17.750</td>\n",
       "      <td>-63.500</td>\n",
       "      <td>4.5928085327e+01</td>\n",
       "      <td>19790101</td>\n",
       "      <td>0</td>\n",
       "    </tr>\n",
       "    <tr>\n",
       "      <th>1</th>\n",
       "      <td>-17.750</td>\n",
       "      <td>-63.250</td>\n",
       "      <td>5.0115585327e+01</td>\n",
       "      <td>19790101</td>\n",
       "      <td>0</td>\n",
       "    </tr>\n",
       "    <tr>\n",
       "      <th>2</th>\n",
       "      <td>-18.000</td>\n",
       "      <td>-63.500</td>\n",
       "      <td>4.2574569702e+01</td>\n",
       "      <td>19790101</td>\n",
       "      <td>0</td>\n",
       "    </tr>\n",
       "    <tr>\n",
       "      <th>3</th>\n",
       "      <td>-18.000</td>\n",
       "      <td>-63.250</td>\n",
       "      <td>4.7613632202e+01</td>\n",
       "      <td>19790101</td>\n",
       "      <td>0</td>\n",
       "    </tr>\n",
       "    <tr>\n",
       "      <th>4</th>\n",
       "      <td>Latitude,</td>\n",
       "      <td>Longitude,</td>\n",
       "      <td>Value,</td>\n",
       "      <td>dataDate,</td>\n",
       "      <td>dataTime</td>\n",
       "    </tr>\n",
       "  </tbody>\n",
       "</table>\n",
       "</div>"
      ],
      "text/plain": [
       "    Latitude   Longitude             Value   dataDate  dataTime\n",
       "0    -17.750     -63.500  4.5928085327e+01   19790101         0\n",
       "1    -17.750     -63.250  5.0115585327e+01   19790101         0\n",
       "2    -18.000     -63.500  4.2574569702e+01   19790101         0\n",
       "3    -18.000     -63.250  4.7613632202e+01   19790101         0\n",
       "4  Latitude,  Longitude,            Value,  dataDate,  dataTime"
      ]
     },
     "execution_count": 23,
     "metadata": {},
     "output_type": "execute_result"
    }
   ],
   "source": [
    "col_ind = list(df)\n",
    "df.rename({col_ind[0]: 'Latitude', col_ind[1]: 'Longitude', col_ind[2]: 'Value', col_ind[3]: 'dataDate'}, axis=1, inplace=True)\n",
    "df.head()"
   ]
  },
  {
   "cell_type": "markdown",
   "metadata": {},
   "source": [
    "### Removing extra column indexes\n",
    "We'll look in the Latitude column and we'll exclude all the rows that contain the word \"*Latitude,*\" using [*isin()*](https://pandas.pydata.org/pandas-docs/stable/reference/api/pandas.DataFrame.isin.html)"
   ]
  },
  {
   "cell_type": "code",
   "execution_count": 25,
   "metadata": {},
   "outputs": [
    {
     "data": {
      "text/html": [
       "<div>\n",
       "<style scoped>\n",
       "    .dataframe tbody tr th:only-of-type {\n",
       "        vertical-align: middle;\n",
       "    }\n",
       "\n",
       "    .dataframe tbody tr th {\n",
       "        vertical-align: top;\n",
       "    }\n",
       "\n",
       "    .dataframe thead th {\n",
       "        text-align: right;\n",
       "    }\n",
       "</style>\n",
       "<table border=\"1\" class=\"dataframe\">\n",
       "  <thead>\n",
       "    <tr style=\"text-align: right;\">\n",
       "      <th></th>\n",
       "      <th>Latitude</th>\n",
       "      <th>Longitude</th>\n",
       "      <th>Value</th>\n",
       "      <th>dataDate</th>\n",
       "      <th>dataTime</th>\n",
       "    </tr>\n",
       "  </thead>\n",
       "  <tbody>\n",
       "    <tr>\n",
       "      <th>0</th>\n",
       "      <td>-17.750</td>\n",
       "      <td>-63.500</td>\n",
       "      <td>4.5928085327e+01</td>\n",
       "      <td>19790101</td>\n",
       "      <td>0</td>\n",
       "    </tr>\n",
       "    <tr>\n",
       "      <th>1</th>\n",
       "      <td>-17.750</td>\n",
       "      <td>-63.250</td>\n",
       "      <td>5.0115585327e+01</td>\n",
       "      <td>19790101</td>\n",
       "      <td>0</td>\n",
       "    </tr>\n",
       "    <tr>\n",
       "      <th>2</th>\n",
       "      <td>-18.000</td>\n",
       "      <td>-63.500</td>\n",
       "      <td>4.2574569702e+01</td>\n",
       "      <td>19790101</td>\n",
       "      <td>0</td>\n",
       "    </tr>\n",
       "    <tr>\n",
       "      <th>3</th>\n",
       "      <td>-18.000</td>\n",
       "      <td>-63.250</td>\n",
       "      <td>4.7613632202e+01</td>\n",
       "      <td>19790101</td>\n",
       "      <td>0</td>\n",
       "    </tr>\n",
       "    <tr>\n",
       "      <th>5</th>\n",
       "      <td>-17.750</td>\n",
       "      <td>-63.500</td>\n",
       "      <td>4.8029144287e+01</td>\n",
       "      <td>19790101</td>\n",
       "      <td>600</td>\n",
       "    </tr>\n",
       "  </tbody>\n",
       "</table>\n",
       "</div>"
      ],
      "text/plain": [
       "  Latitude Longitude             Value  dataDate dataTime\n",
       "0  -17.750   -63.500  4.5928085327e+01  19790101        0\n",
       "1  -17.750   -63.250  5.0115585327e+01  19790101        0\n",
       "2  -18.000   -63.500  4.2574569702e+01  19790101        0\n",
       "3  -18.000   -63.250  4.7613632202e+01  19790101        0\n",
       "5  -17.750   -63.500  4.8029144287e+01  19790101      600"
      ]
     },
     "execution_count": 25,
     "metadata": {},
     "output_type": "execute_result"
    }
   ],
   "source": [
    "df = df[~df['Latitude'].isin(['Latitude,'])]\n",
    "df.head()"
   ]
  },
  {
   "cell_type": "markdown",
   "metadata": {},
   "source": [
    "### Changing values to Float\n",
    "We'll use [*to_numeric()*](https://pandas.pydata.org/pandas-docs/stable/reference/api/pandas.to_numeric.html) to change the whole dataframe to float values"
   ]
  },
  {
   "cell_type": "code",
   "execution_count": 38,
   "metadata": {},
   "outputs": [
    {
     "data": {
      "text/html": [
       "<div>\n",
       "<style scoped>\n",
       "    .dataframe tbody tr th:only-of-type {\n",
       "        vertical-align: middle;\n",
       "    }\n",
       "\n",
       "    .dataframe tbody tr th {\n",
       "        vertical-align: top;\n",
       "    }\n",
       "\n",
       "    .dataframe thead th {\n",
       "        text-align: right;\n",
       "    }\n",
       "</style>\n",
       "<table border=\"1\" class=\"dataframe\">\n",
       "  <thead>\n",
       "    <tr style=\"text-align: right;\">\n",
       "      <th></th>\n",
       "      <th>Latitude</th>\n",
       "      <th>Longitude</th>\n",
       "      <th>Value</th>\n",
       "      <th>dataDate</th>\n",
       "      <th>dataTime</th>\n",
       "    </tr>\n",
       "  </thead>\n",
       "  <tbody>\n",
       "    <tr>\n",
       "      <th>0</th>\n",
       "      <td>-17.75</td>\n",
       "      <td>-63.50</td>\n",
       "      <td>45.928085</td>\n",
       "      <td>19790101</td>\n",
       "      <td>0</td>\n",
       "    </tr>\n",
       "    <tr>\n",
       "      <th>1</th>\n",
       "      <td>-17.75</td>\n",
       "      <td>-63.25</td>\n",
       "      <td>50.115585</td>\n",
       "      <td>19790101</td>\n",
       "      <td>0</td>\n",
       "    </tr>\n",
       "    <tr>\n",
       "      <th>2</th>\n",
       "      <td>-18.00</td>\n",
       "      <td>-63.50</td>\n",
       "      <td>42.574570</td>\n",
       "      <td>19790101</td>\n",
       "      <td>0</td>\n",
       "    </tr>\n",
       "    <tr>\n",
       "      <th>3</th>\n",
       "      <td>-18.00</td>\n",
       "      <td>-63.25</td>\n",
       "      <td>47.613632</td>\n",
       "      <td>19790101</td>\n",
       "      <td>0</td>\n",
       "    </tr>\n",
       "    <tr>\n",
       "      <th>5</th>\n",
       "      <td>-17.75</td>\n",
       "      <td>-63.50</td>\n",
       "      <td>48.029144</td>\n",
       "      <td>19790101</td>\n",
       "      <td>600</td>\n",
       "    </tr>\n",
       "  </tbody>\n",
       "</table>\n",
       "</div>"
      ],
      "text/plain": [
       "   Latitude  Longitude      Value  dataDate  dataTime\n",
       "0    -17.75     -63.50  45.928085  19790101         0\n",
       "1    -17.75     -63.25  50.115585  19790101         0\n",
       "2    -18.00     -63.50  42.574570  19790101         0\n",
       "3    -18.00     -63.25  47.613632  19790101         0\n",
       "5    -17.75     -63.50  48.029144  19790101       600"
      ]
     },
     "execution_count": 38,
     "metadata": {},
     "output_type": "execute_result"
    }
   ],
   "source": [
    "col_ind = list(df)\n",
    "for i in col_ind:\n",
    "    df[i] = pd.to_numeric(df[i])\n",
    "df.head()"
   ]
  },
  {
   "cell_type": "markdown",
   "metadata": {},
   "source": [
    "### Hourly Data Extraction\n",
    "Here we'll save the different hours desired in a list to extract each one in a different csv file "
   ]
  },
  {
   "cell_type": "code",
   "execution_count": 152,
   "metadata": {},
   "outputs": [],
   "source": [
    "hours = [0, 600, 1200, 1800]\n",
    "for i in hours:\n",
    "    hs = f\"{int(i/100):02d}\"\n",
    "    path = 'TCWV/LaGuardia/' + 'tcwv_' + hs + '.csv'\n",
    "    df[df['dataTime']==i].to_csv(path, index=False)"
   ]
  },
  {
   "cell_type": "markdown",
   "metadata": {},
   "source": [
    "### Bilinear Interpolation for each file\n",
    "Now we'll start with bilinear interpolation, we have to do a couple of functions before:\n",
    " - We have to create a list containing all the dates\n",
    " - We have to do bilinear interpolation\n",
    " - We'll save the interpolated values in a text file"
   ]
  },
  {
   "cell_type": "markdown",
   "metadata": {},
   "source": [
    "### List containing all the dates\n",
    "We'll use two functions, the first one to return the number of days of the month depending of the year and the second one to create the list with the dates"
   ]
  },
  {
   "cell_type": "code",
   "execution_count": 158,
   "metadata": {},
   "outputs": [],
   "source": [
    "def nod(year, month):\n",
    "    if month == 4 or month == 6 or month == 9 or month == 11:\n",
    "        days = 30\n",
    "    elif month == 2:\n",
    "        days = 29 if year % 4 == 0 else 28\n",
    "    else:\n",
    "        days = 31\n",
    "    return days\n",
    "def create_dates(start_year, end_year):\n",
    "    days = 0\n",
    "    for i in range(start_year, end_year + 1):\n",
    "        day_y = 366 if (i % 4) == 0 else 365\n",
    "        days += day_y\n",
    "    year = start_year\n",
    "    month = 1\n",
    "    day = 0\n",
    "    dates = []\n",
    "    for i in range(0, days):    \n",
    "        if day < nod(year, month):\n",
    "            day += 1\n",
    "        else:\n",
    "            day = 1        \n",
    "            if month < 12:\n",
    "                month += 1\n",
    "            else:\n",
    "                year += 1\n",
    "                month = 1\n",
    "        ms = '0' + str(month) if month<10 else str(month)\n",
    "        ds = '0' + str(day) if day<10 else str(day)\n",
    "        dates.append(str(year) + ms + ds)\n",
    "    dates_int = [int(x) for x in dates]\n",
    "    return dates, dates_int"
   ]
  },
  {
   "cell_type": "code",
   "execution_count": 162,
   "metadata": {},
   "outputs": [],
   "source": [
    "dates = create_dates(1979, 2019)[1]"
   ]
  },
  {
   "cell_type": "markdown",
   "metadata": {},
   "source": [
    "### Data Interpolation\n",
    "We'll use three functions, the first one to return the value corresponding to a latitude and longitude in a pandas dataframe, the second one to interpolate at an specific location and the last one to save a list as a text file."
   ]
  },
  {
   "cell_type": "code",
   "execution_count": 171,
   "metadata": {},
   "outputs": [],
   "source": [
    "def findval(df, lat, lon):\n",
    "    latstr = list(df)[0]\n",
    "    lonstr = list(df)[1]\n",
    "    df = df[df[latstr]==lat]\n",
    "    df = df[df[lonstr]==lon]\n",
    "    val = df['Value'].item()\n",
    "    return val\n",
    "def interpval(df, lat=1, lon=1):\n",
    "    lat_0 = df['Latitude'].iloc[2]\n",
    "    lat_1 = df['Latitude'].iloc[0]\n",
    "    lon_a = df['Longitude'].iloc[0]\n",
    "    lon_b = df['Longitude'].iloc[1]\n",
    "    t = (lat - lat_0) / (lat_1 - lat_0)\n",
    "    s = (lon - lon_a) / (lon_b - lon_a)\n",
    "    X_tl = findval(df, lat_1, lon_a)\n",
    "    X_tr = findval(df, lat_1, lon_b)\n",
    "    X_bl = findval(df, lat_0, lon_a)\n",
    "    X_br = findval(df, lat_0, lon_b)\n",
    "    value = (1 - s) * (1 - t) * X_bl + (1 - s) * t * X_tl + s * (1 - t) * X_br + t * s * X_tr\n",
    "    return value\n",
    "def savelist(array, name='file'):\n",
    "    name = name + '.txt'\n",
    "    with open(name, \"w\") as f:\n",
    "        for s in array:\n",
    "            f.write(str(s) +\"\\n\")"
   ]
  },
  {
   "cell_type": "markdown",
   "metadata": {},
   "source": [
    "Now we'll interpolate for the hours previously used and for all the dates created before and finally we'll save the values in a text file."
   ]
  },
  {
   "cell_type": "code",
   "execution_count": 176,
   "metadata": {},
   "outputs": [
    {
     "name": "stdout",
     "output_type": "stream",
     "text": [
      "--- 407.74 seconds ---\n"
     ]
    }
   ],
   "source": [
    "start_time = time.time()\n",
    "for i in hours:\n",
    "    tcwv_i = []\n",
    "    hs = f\"{int(i/100):02d}\"\n",
    "    hdf = df[df['dataTime']==i]\n",
    "    for j in dates:\n",
    "        ddf = hdf[hdf['dataDate']==j]\n",
    "        iv = interpval(ddf, -17.9074, -63.3266)\n",
    "        tcwv_i.append(iv)\n",
    "    path = 'TCWV/LaGuardia/' + 'itcwv_' + hs\n",
    "    savelist(tcwv_i, path)\n",
    "print(\"--- %.6s seconds ---\" % (time.time() - start_time))"
   ]
  },
  {
   "cell_type": "markdown",
   "metadata": {},
   "source": [
    "Now we'll create a single function to do all of this"
   ]
  },
  {
   "cell_type": "code",
   "execution_count": 241,
   "metadata": {},
   "outputs": [],
   "source": [
    "def find_iv(raw_data, output, start_year, end_year, hours, lat, lon):\n",
    "    start_time = time.time()\n",
    "    hours = [hours] if type(hours)!=list else hours\n",
    "    name = rd[::-1][rd[::-1].find('.')+1:rd[::-1].find('/')][::-1]\n",
    "    txt_name = name + '.txt'\n",
    "    output_path = output + txt_name\n",
    "    command = 'grib_get_data -p dataDate,dataTime ' + raw_data + ' > ' + output_path\n",
    "    os.system(command)\n",
    "    df = pd.read_csv(output_path, sep='\\s+')\n",
    "    col_ind = list(df)\n",
    "    df.rename({col_ind[0]: 'Latitude', col_ind[1]: 'Longitude', col_ind[2]: 'Value', col_ind[3]: 'dataDate'}, axis=1, inplace=True)\n",
    "    df = df[~df['Latitude'].isin(['Latitude,'])]\n",
    "    col_ind = list(df)\n",
    "    for i in col_ind:\n",
    "        df[i] = pd.to_numeric(df[i])\n",
    "    dates = create_dates(start_year, end_year)[1]\n",
    "    for i in hours:\n",
    "        tcwv_i = []\n",
    "        hs = f\"{int(i/100):02d}\"\n",
    "        hdf = df[df['dataTime']==i]\n",
    "        for j in dates:\n",
    "            ddf = hdf[hdf['dataDate']==j]\n",
    "            iv = interpval(ddf, lat, lon)\n",
    "            tcwv_i.append(iv)\n",
    "        path = output + 'itcwv_' + hs\n",
    "        savelist(tcwv_i, path)\n",
    "    return (\"--- %.6s seconds ---\" % (time.time() - start_time))"
   ]
  },
  {
   "cell_type": "markdown",
   "metadata": {},
   "source": [
    "### UPB"
   ]
  },
  {
   "cell_type": "code",
   "execution_count": 242,
   "metadata": {},
   "outputs": [
    {
     "data": {
      "text/plain": [
       "'--- 451.33 seconds ---'"
      ]
     },
     "execution_count": 242,
     "metadata": {},
     "output_type": "execute_result"
    }
   ],
   "source": [
    "find_iv('RawData/tcwv_upb.grib', 'TCWV/UPB/', 1979, 2019, [0, 600, 1200, 1800], -17.399253, -66.218466)"
   ]
  },
  {
   "cell_type": "markdown",
   "metadata": {},
   "source": [
    "### El Alto"
   ]
  },
  {
   "cell_type": "code",
   "execution_count": 243,
   "metadata": {},
   "outputs": [
    {
     "data": {
      "text/plain": [
       "'--- 437.41 seconds ---'"
      ]
     },
     "execution_count": 243,
     "metadata": {},
     "output_type": "execute_result"
    }
   ],
   "source": [
    "find_iv('RawData/tcwv_ea.grib', 'TCWV/ElAlto/', 1979, 2019, [0, 600, 1200, 1800], -16.51, -68.17)"
   ]
  },
  {
   "cell_type": "markdown",
   "metadata": {},
   "source": [
    "### San Ignacio de Moxos"
   ]
  },
  {
   "cell_type": "code",
   "execution_count": 244,
   "metadata": {},
   "outputs": [
    {
     "data": {
      "text/plain": [
       "'--- 419.26 seconds ---'"
      ]
     },
     "execution_count": 244,
     "metadata": {},
     "output_type": "execute_result"
    }
   ],
   "source": [
    "find_iv('RawData/tcwv_sim.grib', 'TCWV/SIMoxos/', 1979, 2019, [0, 600, 1200, 1800], -14.996641, -65.640895)"
   ]
  }
 ],
 "metadata": {
  "kernelspec": {
   "display_name": "Python 3",
   "language": "python",
   "name": "python3"
  },
  "language_info": {
   "codemirror_mode": {
    "name": "ipython",
    "version": 3
   },
   "file_extension": ".py",
   "mimetype": "text/x-python",
   "name": "python",
   "nbconvert_exporter": "python",
   "pygments_lexer": "ipython3",
   "version": "3.6.9"
  }
 },
 "nbformat": 4,
 "nbformat_minor": 4
}
