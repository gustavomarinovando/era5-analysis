{
 "cells": [
  {
   "cell_type": "code",
   "execution_count": 1,
   "metadata": {},
   "outputs": [],
   "source": [
    "import numpy as np\n",
    "import pandas as pd\n",
    "import matplotlib.pyplot as plt"
   ]
  },
  {
   "cell_type": "code",
   "execution_count": 2,
   "metadata": {},
   "outputs": [],
   "source": [
    "def loadlist(array, name='file'):\n",
    "    with open(name, \"r\") as f:\n",
    "        for line in f:\n",
    "            array.append(float(line.strip()))"
   ]
  },
  {
   "cell_type": "markdown",
   "metadata": {},
   "source": [
    "### El Alto"
   ]
  },
  {
   "cell_type": "code",
   "execution_count": 17,
   "metadata": {},
   "outputs": [],
   "source": [
    "pre = []\n",
    "loadlist(pre, 'OAttenuation/ElAlto/pressure_00.txt')\n",
    "pre = np.array(pre)\n",
    "pre = pre / 100\n",
    "pre = np.mean(pre)\n",
    "dptemp = []\n",
    "loadlist(dptemp, 'OAttenuation/ElAlto/2mdptemp_00.txt')\n",
    "dptemp = np.array(dptemp)\n",
    "dptemp = dptemp - 273.15\n",
    "dptemp = np.mean(dptemp)\n",
    "temp = []\n",
    "loadlist(temp, 'OAttenuation/ElAlto/2mtemp_00.txt')\n",
    "temp = np.array(temp)\n",
    "temp = temp - 273.15\n",
    "temp = np.mean(temp)"
   ]
  },
  {
   "cell_type": "code",
   "execution_count": 19,
   "metadata": {},
   "outputs": [
    {
     "name": "stdout",
     "output_type": "stream",
     "text": [
      "629.7962103909553 0.5334620757494518 7.393385943629059\n"
     ]
    }
   ],
   "source": [
    "print(pre, dptemp, temp)"
   ]
  },
  {
   "cell_type": "code",
   "execution_count": 102,
   "metadata": {},
   "outputs": [],
   "source": [
    "a = 6.1121\n",
    "b = 18.678\n",
    "c = 257.14\n",
    "d = 234.5\n",
    "aux1 = (c * (b * d + c)) / (d * (temp + c))\n",
    "aux2 = temp / d\n",
    "aux3 = (-b * c) / (c + dptemp)\n",
    "aux4 = - c / d\n",
    "rh = 100 * np.exp(aux1 + aux2 + aux3 + aux4)\n",
    "ef = 1 + (10 ** -4) * (7.2 + pre * (0.0320 + 5.9 * (10 ** -6) * (temp ** 2)))\n",
    "es = ef * a * np.exp((temp * (b - temp / d))/(temp + c))\n",
    "e = rh * es / 100 # Water vapour partial pressure (hPa)\n",
    "rho = e * 216.7 / temp # Absolute Humidity\n",
    "p = pre - e # Dry Air Pressure"
   ]
  },
  {
   "cell_type": "code",
   "execution_count": 50,
   "metadata": {
    "jupyter": {
     "source_hidden": true
    }
   },
   "outputs": [],
   "source": [
    "wat_file = pd.read_csv('ITUFiles/wat676.csv')\n",
    "oxy_file = pd.read_csv('ITUFiles/oxy676.csv')\n",
    "fw = wat_file['fw'].to_numpy()\n",
    "b1 = wat_file['b1'].to_numpy()\n",
    "b2 = wat_file['b2'].to_numpy()\n",
    "b3 = wat_file['b3'].to_numpy()\n",
    "b4 = wat_file['b4'].to_numpy()\n",
    "b5 = wat_file['b5'].to_numpy()\n",
    "b6 = wat_file['b6'].to_numpy()\n",
    "fo = oxy_file['fo'].to_numpy()\n",
    "a1 = oxy_file['a1'].to_numpy()\n",
    "a2 = oxy_file['a2'].to_numpy()\n",
    "a3 = oxy_file['a3'].to_numpy()\n",
    "a4 = oxy_file['a4'].to_numpy()\n",
    "a5 = oxy_file['a5'].to_numpy()\n",
    "a6 = oxy_file['a6'].to_numpy()"
   ]
  },
  {
   "cell_type": "code",
   "execution_count": 52,
   "metadata": {},
   "outputs": [],
   "source": [
    "def itu676(f, p, rho, T):\n",
    "    # p: dry air presure (hPa)\n",
    "    # e: water vapour partial pressure (hPa)\n",
    "    # T: Temperature (K)\n",
    "    theta = 300/T\n",
    "    e = (rho*T)/216.7\n",
    "    So = a1 * (1e-7) * p * (theta**3) * np.exp(a2 * (1 - theta))\n",
    "    Sw = b1 * (1e-1) * e * (theta**3.5) * np.exp(b2 * (1 - theta))\n",
    "    deltao = (a5 + a6 * theta) * (1e-4) * (p + e) * (theta**0.8)\n",
    "    deltaw = 0\n",
    "    deltafo_wd = a3 * (1e-4) * (p * (theta**(0.8 - a4)) + 1.1 * e * theta)\n",
    "    deltafw_wd = b3 * (1e-4) * (p * (theta**b4) + b5 * e * (theta**b6))\n",
    "    deltafo = np.sqrt(deltafo_wd**2 + 2.25e-6)\n",
    "    deltafw = 0.535 * deltafw_wd + np.sqrt((0.217 * deltafw_wd**2) + (2.1316e-12 * (fw**2))/(theta))\n",
    "    Fo = ((f)/(fo)) * (((deltafo - deltao * (fo - f))/(deltafo**2 + (fo - f)**2))+((deltafo - deltao * (fo + f))/(deltafo**2 + (fo + f)**2)))\n",
    "    Fw = ((f)/(fw)) * (((deltafw - deltaw * (fw - f))/(deltafw**2 + (fw - f)**2))+((deltafw - deltaw * (fw + f))/(deltafw**2 + (fw + f)**2)))\n",
    "    d = (5.6e-4) * (p + e) * (theta**0.8)\n",
    "    N2Df = f * p * theta**2 * (((6.14e-5)/(d * (1+(f/d)**2)))+((1.4e-12 * p * theta**1.5)/(1 + 1.9e-5 * f**1.5)))\n",
    "    N2f = sum(Fo * So) + sum(Fw * Sw) + N2Df\n",
    "    y = 0.182 * f * N2f\n",
    "    ywv = 0.182 * f * sum(Fw * Sw)\n",
    "    yox = 0.182 * f * (sum(Fo * So) + N2Df)\n",
    "    return y, ywv, yox"
   ]
  },
  {
   "cell_type": "code",
   "execution_count": 103,
   "metadata": {},
   "outputs": [
    {
     "name": "stdout",
     "output_type": "stream",
     "text": [
      "p= 623.4256247863557\n",
      "e= 6.370585604599578\n",
      "T= 7.393385943629059\n"
     ]
    }
   ],
   "source": [
    "print('p=', p)\n",
    "print('e=', e)\n",
    "print('T=', temp)"
   ]
  },
  {
   "cell_type": "code",
   "execution_count": 92,
   "metadata": {},
   "outputs": [
    {
     "data": {
      "text/plain": [
       "4.109020928626165"
      ]
     },
     "execution_count": 92,
     "metadata": {},
     "output_type": "execute_result"
    }
   ],
   "source": [
    "def calc_ho(f, p, e, T):\n",
    "    ci = np.array([0.1597, 0.1066, 0.1325, 0.1242, 0.0938, 0.1448, 0.1374])\n",
    "    fi = np.array([118.750334, 368.498246, 424.76302, 487.249273, 715.392902, 773.83949, 834.145546])\n",
    "    rp = (p + e) / 1013.25\n",
    "    t3 = (0.0114 * f)/(1 + 0.14 * (rp ** -2.6)) * (15.02 * f * f - 1353 * f + 5.333e4)/((f ** 3)- 151.3 * f * f + 9629 * f - 6803)\n",
    "    t1 = (5.104 / (1 + 0.066 * rp ** -2.3)) * np.exp(-((f - 59.7)/(2.87 + 12.4 * np.exp(-7.9 * rp))) ** 2)\n",
    "    t2 = np.sum((ci * np.exp(2.12 * rp))/((f - fi) ** 2 + 0.025 * np.exp(2.2 * rp)))\n",
    "    A = 0.7832 + 0.00709 * T\n",
    "    ho = (6.1 * A * (1 + t1 + t2 + t3)) / (1 + 0.17 * rp ** -1.1)\n",
    "    return ho\n",
    "calc_ho(20, p, e, temp)"
   ]
  },
  {
   "cell_type": "code",
   "execution_count": 99,
   "metadata": {},
   "outputs": [
    {
     "name": "stdout",
     "output_type": "stream",
     "text": [
      "Oxygen Attenuation 20 GHz 0.027690613071882867\n",
      "Oxygen Attenuation 40 GHz 0.12488474985189597\n",
      "Oxygen Attenuation 50 GHz 0.6734767928328286\n",
      "Oxygen Attenuation 75 GHz 0.32861241683368425\n"
     ]
    }
   ],
   "source": [
    "# 20 GHz\n",
    "freq = 20\n",
    "ktemp = temp + 273.15\n",
    "yox = itu676(freq, p, rho, ktemp)[2]\n",
    "ho = calc_ho(freq, p, e, temp)\n",
    "oxat_20 = yox * ho\n",
    "print('Oxygen Attenuation 20 GHz', oxat_20)\n",
    "# 40 GHz\n",
    "freq = 40\n",
    "yox = itu676(freq, p, rho, ktemp)[2]\n",
    "ho = calc_ho(freq, p, e, temp)\n",
    "oxat_40 = yox * ho\n",
    "print('Oxygen Attenuation 40 GHz', oxat_40)\n",
    "# 50 GHz\n",
    "freq = 50\n",
    "yox = itu676(freq, p, rho, ktemp)[2]\n",
    "ho = calc_ho(freq, p, e, temp)\n",
    "oxat_50 = yox * ho\n",
    "print('Oxygen Attenuation 50 GHz', oxat_50)\n",
    "# 75 GHz\n",
    "freq = 75\n",
    "yox = itu676(freq, p, rho, ktemp)[2]\n",
    "ho = calc_ho(freq, p, e, temp)\n",
    "oxat_75 = yox * ho\n",
    "print('Oxygen Attenuation 75 GHz', oxat_75)"
   ]
  },
  {
   "cell_type": "code",
   "execution_count": 146,
   "metadata": {},
   "outputs": [
    {
     "data": {
      "image/png": "[encoded data removed]",
      "text/plain": [
       "<Figure size 432x288 with 1 Axes>"
      ]
     },
     "metadata": {
      "needs_background": "light"
     },
     "output_type": "display_data"
    }
   ],
   "source": [
    "prob_nom = [0.1, 0.2, 0.3, 0.5, 1, 2, 3, 5, 10, 20, 30, 50, 60, 70, 80, 90, 95, 99]\n",
    "moxat_20 = [oxat_20] * 18\n",
    "moxat_40 = [oxat_40] * 18\n",
    "moxat_50 = [oxat_50] * 18\n",
    "moxat_75 = [oxat_75] * 18\n",
    "\n",
    "plt.semilogy(moxat_20, prob_nom, label = '20 GHz')\n",
    "plt.semilogy(moxat_40, prob_nom, label = '40 GHz')\n",
    "plt.semilogy(moxat_50, prob_nom, label = '50 GHz')\n",
    "plt.semilogy(moxat_75, prob_nom, label = '75 GHz')\n",
    "plt.grid(True, which=\"both\", alpha=0.5)\n",
    "plt.title('El Alto (ERA5 Data)')\n",
    "plt.xlabel('Oxygen Attenuation (dB)')\n",
    "plt.ylabel('Probability (%)')\n",
    "plt.legend(bbox_to_anchor=(1.04,1), loc='best')\n",
    "plt.show()"
   ]
  },
  {
   "cell_type": "markdown",
   "metadata": {},
   "source": [
    "### La Guardia"
   ]
  },
  {
   "cell_type": "code",
   "execution_count": 147,
   "metadata": {},
   "outputs": [],
   "source": [
    "pre = []\n",
    "loadlist(pre, 'OAttenuation/LaGuardia/pressure_00.txt')\n",
    "pre = np.array(pre)\n",
    "pre = pre / 100\n",
    "pre = np.mean(pre)\n",
    "dptemp = []\n",
    "loadlist(dptemp, 'OAttenuation/LaGuardia/2mdptemp_00.txt')\n",
    "dptemp = np.array(dptemp)\n",
    "dptemp = dptemp - 273.15\n",
    "dptemp = np.mean(dptemp)\n",
    "temp = []\n",
    "loadlist(temp, 'OAttenuation/LaGuardia/2mtemp_00.txt')\n",
    "temp = np.array(temp)\n",
    "temp = temp - 273.15\n",
    "temp = np.mean(temp)"
   ]
  },
  {
   "cell_type": "code",
   "execution_count": 148,
   "metadata": {},
   "outputs": [
    {
     "name": "stdout",
     "output_type": "stream",
     "text": [
      "944.1736940747514 17.63715930952375 22.683204543011097\n"
     ]
    }
   ],
   "source": [
    "print(pre, dptemp, temp)"
   ]
  },
  {
   "cell_type": "code",
   "execution_count": 149,
   "metadata": {},
   "outputs": [],
   "source": [
    "a = 6.1121\n",
    "b = 18.678\n",
    "c = 257.14\n",
    "d = 234.5\n",
    "aux1 = (c * (b * d + c)) / (d * (temp + c))\n",
    "aux2 = temp / d\n",
    "aux3 = (-b * c) / (c + dptemp)\n",
    "aux4 = - c / d\n",
    "rh = 100 * np.exp(aux1 + aux2 + aux3 + aux4)\n",
    "ef = 1 + (10 ** -4) * (7.2 + pre * (0.0320 + 5.9 * (10 ** -6) * (temp ** 2)))\n",
    "es = ef * a * np.exp((temp * (b - temp / d))/(temp + c))\n",
    "e = rh * es / 100 # Water vapour partial pressure (hPa)\n",
    "rho = e * 216.7 / temp # Absolute Humidity\n",
    "p = pre - e # Dry Air Pressure"
   ]
  },
  {
   "cell_type": "code",
   "execution_count": 150,
   "metadata": {},
   "outputs": [
    {
     "name": "stdout",
     "output_type": "stream",
     "text": [
      "Oxygen Attenuation 20 GHz 0.059924908605858085\n",
      "Oxygen Attenuation 40 GHz 0.2669096304363052\n",
      "Oxygen Attenuation 50 GHz 1.4596087522131702\n",
      "Oxygen Attenuation 75 GHz 0.6902603782976784\n"
     ]
    }
   ],
   "source": [
    "# 20 GHz\n",
    "freq = 20\n",
    "ktemp = temp + 273.15\n",
    "yox = itu676(freq, p, rho, ktemp)[2]\n",
    "ho = calc_ho(freq, p, e, temp)\n",
    "oxat_20 = yox * ho\n",
    "print('Oxygen Attenuation 20 GHz', oxat_20)\n",
    "# 40 GHz\n",
    "freq = 40\n",
    "yox = itu676(freq, p, rho, ktemp)[2]\n",
    "ho = calc_ho(freq, p, e, temp)\n",
    "oxat_40 = yox * ho\n",
    "print('Oxygen Attenuation 40 GHz', oxat_40)\n",
    "# 50 GHz\n",
    "freq = 50\n",
    "yox = itu676(freq, p, rho, ktemp)[2]\n",
    "ho = calc_ho(freq, p, e, temp)\n",
    "oxat_50 = yox * ho\n",
    "print('Oxygen Attenuation 50 GHz', oxat_50)\n",
    "# 75 GHz\n",
    "freq = 75\n",
    "yox = itu676(freq, p, rho, ktemp)[2]\n",
    "ho = calc_ho(freq, p, e, temp)\n",
    "oxat_75 = yox * ho\n",
    "print('Oxygen Attenuation 75 GHz', oxat_75)"
   ]
  },
  {
   "cell_type": "code",
   "execution_count": 151,
   "metadata": {},
   "outputs": [
    {
     "data": {
      "image/png": "[encoded data removed]",
      "text/plain": [
       "<Figure size 432x288 with 1 Axes>"
      ]
     },
     "metadata": {
      "needs_background": "light"
     },
     "output_type": "display_data"
    }
   ],
   "source": [
    "prob_nom = [0.1, 0.2, 0.3, 0.5, 1, 2, 3, 5, 10, 20, 30, 50, 60, 70, 80, 90, 95, 99]\n",
    "moxat_20 = [oxat_20] * 18\n",
    "moxat_40 = [oxat_40] * 18\n",
    "moxat_50 = [oxat_50] * 18\n",
    "moxat_75 = [oxat_75] * 18\n",
    "\n",
    "plt.semilogy(moxat_20, prob_nom, label = '20 GHz')\n",
    "plt.semilogy(moxat_40, prob_nom, label = '40 GHz')\n",
    "plt.semilogy(moxat_50, prob_nom, label = '50 GHz')\n",
    "plt.semilogy(moxat_75, prob_nom, label = '75 GHz')\n",
    "plt.grid(True, which=\"both\", alpha=0.5)\n",
    "plt.title('La Guardia (ERA5 Data)')\n",
    "plt.xlabel('Oxygen Attenuation (dB)')\n",
    "plt.ylabel('Probability (%)')\n",
    "plt.legend(bbox_to_anchor=(1.04,1), loc='best')\n",
    "plt.show()"
   ]
  }
 ],
 "metadata": {
  "kernelspec": {
   "display_name": "Python 3",
   "language": "python",
   "name": "python3"
  },
  "language_info": {
   "codemirror_mode": {
    "name": "ipython",
    "version": 3
   },
   "file_extension": ".py",
   "mimetype": "text/x-python",
   "name": "python",
   "nbconvert_exporter": "python",
   "pygments_lexer": "ipython3",
   "version": "3.6.9"
  }
 },
 "nbformat": 4,
 "nbformat_minor": 4
}
