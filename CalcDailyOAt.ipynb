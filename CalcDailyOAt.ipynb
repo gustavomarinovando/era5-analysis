{
 "cells": [
  {
   "cell_type": "code",
   "execution_count": 7,
   "metadata": {},
   "outputs": [],
   "source": [
    "import pandas as pd\n",
    "import matplotlib.pyplot as plt\n",
    "import numpy as np\n",
    "import urllib.request\n",
    "import json\n",
    "from scipy.interpolate import interp1d, interp2d"
   ]
  },
  {
   "cell_type": "code",
   "execution_count": 8,
   "metadata": {},
   "outputs": [],
   "source": [
    "def plotcdf(array, plot=1, bins=50):\n",
    "    ccdf, X, _ = plt.hist(array, bins = bins, density=True, log=True, cumulative=-1, histtype='step')\n",
    "    ccdf = np.append(ccdf * 100, 0)\n",
    "    plt.clf()\n",
    "    plt.grid(True, which=\"both\")\n",
    "    plt.semilogy(X, ccdf, label='CCDF')\n",
    "    plt.legend(loc='best')\n",
    "    plt.xlabel('IWV (mm)')\n",
    "    plt.ylabel('Probabilidad (%)')\n",
    "    plt.title('CCDF')\n",
    "    plt.show() if plot == 1 else plt.clf()\n",
    "    return X, ccdf"
   ]
  },
  {
   "cell_type": "code",
   "execution_count": 9,
   "metadata": {},
   "outputs": [],
   "source": [
    "def interp_list(x, y, new_x):\n",
    "    new_y = []\n",
    "    y_interp = interp1d(x, y, kind='linear')\n",
    "    new_y = np.array([float(y_interp(val)) for val in new_x])\n",
    "    return new_y"
   ]
  },
  {
   "cell_type": "code",
   "execution_count": 36,
   "metadata": {
    "jupyter": {
     "source_hidden": true
    }
   },
   "outputs": [],
   "source": [
    "wat_file = pd.read_csv('ITUFiles/wat676.csv')\n",
    "oxy_file = pd.read_csv('ITUFiles/oxy676.csv')\n",
    "fw = wat_file['fw'].to_numpy()\n",
    "b1 = wat_file['b1'].to_numpy()\n",
    "b2 = wat_file['b2'].to_numpy()\n",
    "b3 = wat_file['b3'].to_numpy()\n",
    "b4 = wat_file['b4'].to_numpy()\n",
    "b5 = wat_file['b5'].to_numpy()\n",
    "b6 = wat_file['b6'].to_numpy()\n",
    "fo = oxy_file['fo'].to_numpy()\n",
    "a1 = oxy_file['a1'].to_numpy()\n",
    "a2 = oxy_file['a2'].to_numpy()\n",
    "a3 = oxy_file['a3'].to_numpy()\n",
    "a4 = oxy_file['a4'].to_numpy()\n",
    "a5 = oxy_file['a5'].to_numpy()\n",
    "a6 = oxy_file['a6'].to_numpy()"
   ]
  },
  {
   "cell_type": "code",
   "execution_count": 37,
   "metadata": {},
   "outputs": [],
   "source": [
    "def itu676(f, p, rho, T):\n",
    "    # p: dry air presure (hPa)\n",
    "    # e: water vapour partial pressure (hPa)\n",
    "    # T: Temperature (K)\n",
    "    theta = 300/T\n",
    "    e = (rho*T)/216.7\n",
    "    So = a1 * (1e-7) * p * (theta**3) * np.exp(a2 * (1 - theta))\n",
    "    Sw = b1 * (1e-1) * e * (theta**3.5) * np.exp(b2 * (1 - theta))\n",
    "    deltao = (a5 + a6 * theta) * (1e-4) * (p + e) * (theta**0.8)\n",
    "    deltaw = 0\n",
    "    deltafo_wd = a3 * (1e-4) * (p * (theta**(0.8 - a4)) + 1.1 * e * theta)\n",
    "    deltafw_wd = b3 * (1e-4) * (p * (theta**b4) + b5 * e * (theta**b6))\n",
    "    deltafo = np.sqrt(deltafo_wd**2 + 2.25e-6)\n",
    "    deltafw = 0.535 * deltafw_wd + np.sqrt((0.217 * deltafw_wd**2) + (2.1316e-12 * (fw**2))/(theta))\n",
    "    Fo = ((f)/(fo)) * (((deltafo - deltao * (fo - f))/(deltafo**2 + (fo - f)**2))+((deltafo - deltao * (fo + f))/(deltafo**2 + (fo + f)**2)))\n",
    "    Fw = ((f)/(fw)) * (((deltafw - deltaw * (fw - f))/(deltafw**2 + (fw - f)**2))+((deltafw - deltaw * (fw + f))/(deltafw**2 + (fw + f)**2)))\n",
    "    d = (5.6e-4) * (p + e) * (theta**0.8)\n",
    "    N2Df = f * p * theta**2 * (((6.14e-5)/(d * (1+(f/d)**2)))+((1.4e-12 * p * theta**1.5)/(1 + 1.9e-5 * f**1.5)))\n",
    "    N2f = sum(Fo * So) + sum(Fw * Sw) + N2Df\n",
    "    y = 0.182 * f * N2f\n",
    "    ywv = 0.182 * f * sum(Fw * Sw)\n",
    "    yox = 0.182 * f * (sum(Fo * So) + N2Df)\n",
    "    return y, ywv, yox"
   ]
  },
  {
   "cell_type": "code",
   "execution_count": 10,
   "metadata": {},
   "outputs": [],
   "source": [
    "prob_nom = [0.1, 0.2, 0.3, 0.5, 1, 2, 3, 5, 10, 20, 30, 50, 60, 70, 80, 90, 95, 99]"
   ]
  },
  {
   "cell_type": "markdown",
   "metadata": {},
   "source": [
    "### El Alto"
   ]
  },
  {
   "cell_type": "markdown",
   "metadata": {},
   "source": [
    "Data Loading\n",
    " - d --> 2 meter dewpoint temperature (K)\n",
    " - T --> 2 meter temperature (K)\n",
    " - P --> Surface Pressure (Pa)"
   ]
  },
  {
   "cell_type": "code",
   "execution_count": 24,
   "metadata": {},
   "outputs": [
    {
     "data": {
      "text/plain": [
       "['2d_00.txt', '2t_00.txt', 'sp_00.txt']"
      ]
     },
     "execution_count": 24,
     "metadata": {},
     "output_type": "execute_result"
    }
   ],
   "source": [
    "time = '00'\n",
    "param = ['2d_', '2t_', 'sp_']\n",
    "param = [x + time + '.txt' for x in param]\n",
    "param"
   ]
  },
  {
   "cell_type": "code",
   "execution_count": 25,
   "metadata": {},
   "outputs": [
    {
     "data": {
      "text/plain": [
       "<Figure size 432x288 with 0 Axes>"
      ]
     },
     "metadata": {},
     "output_type": "display_data"
    }
   ],
   "source": [
    "def get_dtp(path, time):\n",
    "    param = ['2d_', '2t_', 'sp_']\n",
    "    param = [x + time + '.txt' for x in param]\n",
    "    d = pd.read_csv(path + param[0], header=None, sep='\\n').to_numpy()\n",
    "    T = pd.read_csv(path + param[1], header=None, sep='\\n').to_numpy()\n",
    "    P = pd.read_csv(path + param[2], header=None, sep='\\n').to_numpy()\n",
    "    dfindex = ['Probabilities', '2D', '2T', 'SP']\n",
    "    dX, dccdf = plotcdf(d, 0, 100)\n",
    "    dXn = interp_list(dccdf, dX, prob_nom)\n",
    "    TX, Tccdf = plotcdf(T, 0, 100)\n",
    "    TXn = interp_list(Tccdf, TX, prob_nom)\n",
    "    PX, Pccdf = plotcdf(P, 0, 100)\n",
    "    PXn = interp_list(Pccdf, PX, prob_nom)\n",
    "    results = pd.DataFrame(np.column_stack([prob_nom, dXn, TXn, PXn]), columns=dfindex)\n",
    "    outputname = path + 'CCDF_DTP_' + time + '.csv'\n",
    "    results.to_csv(outputname, index=False)\n",
    "get_dtp('OAttenuation/DailyData/ElAlto/', '00')"
   ]
  },
  {
   "cell_type": "markdown",
   "metadata": {},
   "source": [
    "### get_pe()\n",
    "Input dptemp (K) temp (K) pre (Pa) <br/>\n",
    "Output p (dry air pressure (hPa)) and e (water vapour partial pressure (hPa))"
   ]
  },
  {
   "cell_type": "code",
   "execution_count": 33,
   "metadata": {},
   "outputs": [],
   "source": [
    "def get_pep(dptemp, temp, pre):\n",
    "    pre = pre / 100\n",
    "    dptemp = dptemp - 273.15\n",
    "    temp = temp - 273.15\n",
    "    a = 6.1121\n",
    "    b = 18.678\n",
    "    c = 257.14\n",
    "    d = 234.5\n",
    "    aux1 = (c * (b * d + c)) / (d * (temp + c))\n",
    "    aux2 = temp / d\n",
    "    aux3 = (-b * c) / (c + dptemp)\n",
    "    aux4 = - c / d\n",
    "    rh = 100 * np.exp(aux1 + aux2 + aux3 + aux4)\n",
    "    ef = 1 + (10 ** -4) * (7.2 + pre * (0.0320 + 5.9 * (10 ** -6) * (temp ** 2)))\n",
    "    es = ef * a * np.exp((temp * (b - temp / d))/(temp + c))\n",
    "    e = rh * es / 100 # Water vapour partial pressure (hPa)\n",
    "    rho = e * 216.7 / temp # Absolute Humidity\n",
    "    p = pre - e # Dry Air Pressure\n",
    "    return p, e, temp, rho"
   ]
  },
  {
   "cell_type": "code",
   "execution_count": 34,
   "metadata": {},
   "outputs": [],
   "source": [
    "df = pd.read_csv('OAttenuation/DailyData/ElAlto/CCDF_DTP_00.csv')\n",
    "twod = df['2D'].to_numpy()\n",
    "twot = df['2T'].to_numpy()\n",
    "P = df['SP'].to_numpy()\n",
    "p, e, T, rho = get_pep(twod, twot, P)"
   ]
  },
  {
   "cell_type": "code",
   "execution_count": 41,
   "metadata": {},
   "outputs": [],
   "source": [
    "def calc_yox(f, p, rho, T):\n",
    "    yox = []\n",
    "    T = T + 273.15\n",
    "    for i in range(len(p)):\n",
    "        aux = itu676(f, p[i], rho[i], T[i])[2]\n",
    "        yox.append(aux)\n",
    "    return np.array(yox)\n",
    "yox = calc_yox(20, p, rho ,T)"
   ]
  },
  {
   "cell_type": "code",
   "execution_count": 47,
   "metadata": {},
   "outputs": [],
   "source": [
    "def get_ho(f, p, e, T):\n",
    "    ci = np.array([0.1597, 0.1066, 0.1325, 0.1242, 0.0938, 0.1448, 0.1374])\n",
    "    fi = np.array([118.750334, 368.498246, 424.76302, 487.249273, 715.392902, 773.83949, 834.145546])\n",
    "    rp = (p + e) / 1013.25\n",
    "    t3 = (0.0114 * f)/(1 + 0.14 * (rp ** -2.6)) * (15.02 * f * f - 1353 * f + 5.333e4)/((f ** 3)- 151.3 * f * f + 9629 * f - 6803)\n",
    "    t1 = (5.104 / (1 + 0.066 * rp ** -2.3)) * np.exp(-((f - 59.7)/(2.87 + 12.4 * np.exp(-7.9 * rp))) ** 2)\n",
    "    t2 = np.sum((ci * np.exp(2.12 * rp))/((f - fi) ** 2 + 0.025 * np.exp(2.2 * rp)))\n",
    "    A = 0.7832 + 0.00709 * T\n",
    "    ho = (6.1 * A * (1 + t1 + t2 + t3)) / (1 + 0.17 * rp ** -1.1)\n",
    "    return ho\n",
    "def calc_ho(f, p, e, T):\n",
    "    ho = []\n",
    "    for i in range(len(p)):\n",
    "        aux = get_ho(f, p[i], e[i], T[i])\n",
    "        ho.append(aux)\n",
    "    return np.array(ho)\n",
    "ho = calc_ho(20, p, e, T)"
   ]
  },
  {
   "cell_type": "code",
   "execution_count": 50,
   "metadata": {},
   "outputs": [
    {
     "data": {
      "image/png": "[encoded data removed]",
      "text/plain": [
       "<Figure size 432x288 with 1 Axes>"
      ]
     },
     "metadata": {
      "needs_background": "light"
     },
     "output_type": "display_data"
    }
   ],
   "source": [
    "yox = calc_yox(20, p, rho ,T)\n",
    "ho = calc_ho(20, p, e, T)\n",
    "oxat_20 = yox * ho\n",
    "yox = calc_yox(40, p, rho ,T)\n",
    "ho = calc_ho(40, p, e, T)\n",
    "oxat_40 = yox * ho\n",
    "yox = calc_yox(50, p, rho ,T)\n",
    "ho = calc_ho(50, p, e, T)\n",
    "oxat_50 = yox * ho\n",
    "yox = calc_yox(75, p, rho ,T)\n",
    "ho = calc_ho(75, p, e, T)\n",
    "oxat_75 = yox * ho\n",
    "plt.semilogy(oxat_20, prob_nom, label='20 GHz')\n",
    "plt.semilogy(oxat_40, prob_nom, label='40 GHz')\n",
    "plt.semilogy(oxat_50, prob_nom, label='50 GHz')\n",
    "plt.semilogy(oxat_75, prob_nom, label='75 GHz')\n",
    "plt.grid(True, which=\"both\", alpha=0.5)\n",
    "plt.title('El Alto (ERA5 Data)')\n",
    "plt.xlabel('Oxygen Attenuation (dB)')\n",
    "plt.ylabel('Probability (%)')\n",
    "plt.legend(bbox_to_anchor=(1.04,1), loc='best')\n",
    "plt.show()"
   ]
  }
 ],
 "metadata": {
  "kernelspec": {
   "display_name": "Python 3",
   "language": "python",
   "name": "python3"
  },
  "language_info": {
   "codemirror_mode": {
    "name": "ipython",
    "version": 3
   },
   "file_extension": ".py",
   "mimetype": "text/x-python",
   "name": "python",
   "nbconvert_exporter": "python",
   "pygments_lexer": "ipython3",
   "version": "3.7.3"
  }
 },
 "nbformat": 4,
 "nbformat_minor": 4
}
