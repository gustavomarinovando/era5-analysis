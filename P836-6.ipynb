{
 "cells": [
  {
   "cell_type": "code",
   "execution_count": 28,
   "metadata": {},
   "outputs": [],
   "source": [
    "import pandas as pd\n",
    "import numpy as np\n",
    "import matplotlib.pyplot as plt\n",
    "from scipy.interpolate import interp1d, interp2d\n",
    "import urllib.request\n",
    "import json"
   ]
  },
  {
   "cell_type": "markdown",
   "metadata": {},
   "source": [
    "### Find Closest Indexes"
   ]
  },
  {
   "cell_type": "code",
   "execution_count": 6,
   "metadata": {},
   "outputs": [],
   "source": [
    "def fci(array, val, n = 1):\n",
    "    na = array - val\n",
    "    ind = np.argsort(abs(na))[:n*2]\n",
    "    return(np.sort(ind))"
   ]
  },
  {
   "cell_type": "markdown",
   "metadata": {},
   "source": [
    "### Topographic Altitude"
   ]
  },
  {
   "cell_type": "markdown",
   "metadata": {},
   "source": [
    "Using only the 16 closest surrounding points"
   ]
  },
  {
   "cell_type": "code",
   "execution_count": 74,
   "metadata": {},
   "outputs": [
    {
     "data": {
      "text/plain": [
       "2.761580036517823"
      ]
     },
     "execution_count": 74,
     "metadata": {},
     "output_type": "execute_result"
    }
   ],
   "source": [
    "def talt(lat, lon):\n",
    "    df = pd.read_csv('ITUFiles/P.836-6/TALT/TOPO_0DOT5.csv',header=None)\n",
    "    lon = lon + 360 if lon < 0 else lon\n",
    "    latl = np.arange(90.5, -91, -0.5)\n",
    "    lonl = np.arange(-0.5, 361, 0.5)\n",
    "    lat1, lat2, lat3, lat4 = fci(latl, lat,2)\n",
    "    lon1, lon2, lon3, lon4 = fci(lonl, lon,2)\n",
    "    latfi = latl[fci(latl, lat,2)]\n",
    "    lonfi = lonl[fci(lonl, lon,2)]\n",
    "    gridfi = df.loc[lat1:lat4, lon1:lon4].to_numpy()\n",
    "    f = interp2d(lonfi, latfi, gridfi, kind='cubic')\n",
    "    ta = f(lon,lat)[0]\n",
    "    return ta\n",
    "talt(-16.51,-68.17)"
   ]
  },
  {
   "cell_type": "markdown",
   "metadata": {},
   "source": [
    "Using the whole array"
   ]
  },
  {
   "cell_type": "code",
   "execution_count": 35,
   "metadata": {},
   "outputs": [
    {
     "data": {
      "text/plain": [
       "2.7232524980064294"
      ]
     },
     "execution_count": 35,
     "metadata": {},
     "output_type": "execute_result"
    }
   ],
   "source": [
    "def talt(lat, lon):\n",
    "    lon = lon + 360 if lon < 0 else lon\n",
    "    latl = np.arange(90.5, -91, -0.5)\n",
    "    lonl = np.arange(-0.5, 361, 0.5)\n",
    "    tall = pd.read_csv('ITUFiles/P.836-6/TALT/TOPO_0DOT5.csv', header=None).to_numpy()\n",
    "    f = interp2d(lonl, latl, tall, kind='cubic')\n",
    "    ta = f(lon,lat)[0]\n",
    "    return ta\n",
    "talt(-16.51,-68.17)"
   ]
  },
  {
   "cell_type": "markdown",
   "metadata": {},
   "source": [
    "Using the Bing Maps API"
   ]
  },
  {
   "cell_type": "code",
   "execution_count": 57,
   "metadata": {},
   "outputs": [
    {
     "data": {
      "text/plain": [
       "4.079"
      ]
     },
     "execution_count": 57,
     "metadata": {},
     "output_type": "execute_result"
    }
   ],
   "source": [
    "def get_elev(lat, lon):\n",
    "    key = 'Ai9NLeGblweg0P_Br_bKnbLVkkRgbG6RlH4k5FrbBctSqD32KHMuFQmRyX-apadI'\n",
    "    url = 'https://dev.virtualearth.net/REST/v1/Elevation/List?key=' + key + '&points=' + str(lat) + ',' + str(lon)\n",
    "    response = urllib.request.urlopen(url)\n",
    "    data = json.loads(response.read().decode())\n",
    "    elevation = data['resourceSets'][0]['resources'][0]['elevations'][0]\n",
    "    return elevation / 1000\n",
    "get_elevation(-16.51,-68.17)"
   ]
  },
  {
   "cell_type": "markdown",
   "metadata": {},
   "source": [
    "### Data loading"
   ]
  },
  {
   "cell_type": "code",
   "execution_count": 52,
   "metadata": {},
   "outputs": [],
   "source": [
    "prob = ['01', '02', '03', '05', '1', '2', '3', '5', '10', '20', '30', '50', '60', '70', '80', '90', '95', '99']\n",
    "vfiles = ['ITUFiles/P.836-6/V/V_'+x+'_v4.csv' for x in prob]\n",
    "vschfiles = ['ITUFiles/P.836-6/VSCH/VSCH_'+x+'_v4.csv' for x in prob]\n",
    "v = [pd.read_csv(x, header=None) for x in vfiles]\n",
    "vsch = [pd.read_csv(x, header=None) for x in vschfiles]"
   ]
  },
  {
   "cell_type": "code",
   "execution_count": 76,
   "metadata": {},
   "outputs": [],
   "source": [
    "def itu836(lat, lon):\n",
    "    lon = lon + 360 if lon < 0 else lon\n",
    "    alt = get_elev(lat, lon)\n",
    "    latl = np.arange(90,-90-1.125,-1.125)\n",
    "    lonl = np.arange(0,360+1.125,1.125)\n",
    "    lat1, lat2 = fci(latl, lat)\n",
    "    lon1, lon2 = fci(lonl, lon)\n",
    "    lat1v = latl[lat1]\n",
    "    lat2v = latl[lat2]\n",
    "    lon1v = lonl[lon1]\n",
    "    lon2v = lonl[lon2]\n",
    "    iwv = []\n",
    "    for i in range(len(v)):\n",
    "        alti = np.array([talt(lat1v, lon1v), talt(lat1v, lon2v), talt(lat2v, lon1v), talt(lat2v, lon2v)])\n",
    "        vpi = np.array([v[i].loc[lat1, lon1], v[i].loc[lat1, lon2], v[i].loc[lat2, lon1], v[i].loc[lat2, lon2]])\n",
    "        vschi = np.array([vsch[i].loc[lat1, lon1], vsch[i].loc[lat1, lon2], vsch[i].loc[lat2, lon1], vsch[i].loc[lat2, lon2]])\n",
    "        vi = vpi * np.exp(-(alt - alti)/(vschi))\n",
    "        f = interp2d([lon1v, lon2v, lon1v, lon2v], [lat1v, lat1v, lat2v, lat2v], vi)\n",
    "        iwv.append(f(lon, lat)[0])\n",
    "    return iwv"
   ]
  },
  {
   "cell_type": "code",
   "execution_count": 83,
   "metadata": {
    "jupyter": {
     "source_hidden": true
    }
   },
   "outputs": [],
   "source": [
    "wat_file = pd.read_csv('ITUFiles/wat676.csv')\n",
    "oxy_file = pd.read_csv('ITUFiles/oxy676.csv')\n",
    "fw = wat_file['fw'].to_numpy()\n",
    "b1 = wat_file['b1'].to_numpy()\n",
    "b2 = wat_file['b2'].to_numpy()\n",
    "b3 = wat_file['b3'].to_numpy()\n",
    "b4 = wat_file['b4'].to_numpy()\n",
    "b5 = wat_file['b5'].to_numpy()\n",
    "b6 = wat_file['b6'].to_numpy()\n",
    "fo = oxy_file['fo'].to_numpy()\n",
    "a1 = oxy_file['a1'].to_numpy()\n",
    "a2 = oxy_file['a2'].to_numpy()\n",
    "a3 = oxy_file['a3'].to_numpy()\n",
    "a4 = oxy_file['a4'].to_numpy()\n",
    "a5 = oxy_file['a5'].to_numpy()\n",
    "a6 = oxy_file['a6'].to_numpy()"
   ]
  },
  {
   "cell_type": "code",
   "execution_count": 81,
   "metadata": {
    "jupyter": {
     "source_hidden": true
    }
   },
   "outputs": [],
   "source": [
    "def itu676(f, p, rho, T):\n",
    "    # p: dry air presure (hPa)\n",
    "    # e: water vaour partial pressure (hPa)\n",
    "    # theta (Θ): 300/T\n",
    "    # T: Temperature\n",
    "    theta = 300/T\n",
    "    e = (rho*T)/216.7\n",
    "    So = a1 * (1e-7) * p * (theta**3) * np.exp(a2 * (1 - theta))\n",
    "    Sw = b1 * (1e-1) * e * (theta**3.5) * np.exp(b2 * (1 - theta))\n",
    "    deltao = (a5 + a6 * theta) * (1e-4) * (p + e) * (theta**0.8)\n",
    "    deltaw = 0\n",
    "    deltafo_wd = a3 * (1e-4) * (p * (theta**(0.8 - a4)) + 1.1 * e * theta)\n",
    "    deltafw_wd = b3 * (1e-4) * (p * (theta**b4) + b5 * e * (theta**b6))\n",
    "    deltafo = np.sqrt(deltafo_wd**2 + 2.25e-6)\n",
    "    deltafw = 0.535 * deltafw_wd + np.sqrt((0.217 * deltafw_wd**2) + (2.1316e-12 * (fw**2))/(theta))\n",
    "    Fo = ((f)/(fo)) * (((deltafo - deltao * (fo - f))/(deltafo**2 + (fo - f)**2))+((deltafo - deltao * (fo + f))/(deltafo**2 + (fo + f)**2)))\n",
    "    Fw = ((f)/(fw)) * (((deltafw - deltaw * (fw - f))/(deltafw**2 + (fw - f)**2))+((deltafw - deltaw * (fw + f))/(deltafw**2 + (fw + f)**2)))\n",
    "    d = (5.6e-4) * (p + e) * (theta**0.8)\n",
    "    N2Df = f * p * theta**2 * (((6.14e-5)/(d * (1+(f/d)**2)))+((1.4e-12 * p * theta**1.5)/(1 + 1.9e-5 * f**1.5)))\n",
    "    N2f = sum(Fo * So) + sum(Fw * Sw) + N2Df\n",
    "    y = 0.182 * f * N2f\n",
    "    ywv = 0.182 * f * sum(Fw * Sw)\n",
    "    yox = 0.182 * f * (sum(Fo * So) + N2Df)\n",
    "    return y, ywv, yox"
   ]
  },
  {
   "cell_type": "code",
   "execution_count": 78,
   "metadata": {
    "jupyter": {
     "source_hidden": true
    }
   },
   "outputs": [],
   "source": [
    "def calc_at(daily_tcwv, freq, lat, lon):\n",
    "    freq = [freq] if type(freq)!=list else freq\n",
    "    daily_at = [np.empty(0)] * len(freq)\n",
    "    f_ref = 20.6\n",
    "    p_ref = 845\n",
    "    hs = get_elev(lat,lon)\n",
    "    c = 0\n",
    "    for f in freq:\n",
    "        a = 0.2048 * np.exp(-((f-22.43)/(3.097))**2) + 0.2326 * np.exp(-((f-183.5)/(4.096))**2) + 0.2073 * np.exp(-((f-325)/(3.651))**2) - 0.1113\n",
    "        b = 8.741e4 * np.exp(-0.587 * f) + 312.2 * f ** -2.38 + 0.723\n",
    "        if hs < 0:\n",
    "            h = 0\n",
    "        elif hs >= 0 and hs < 4:\n",
    "            h = hs\n",
    "        else:\n",
    "            h = 4\n",
    "        # print(a)\n",
    "        # print(b)\n",
    "        for iwv in daily_tcwv:\n",
    "            rho_vref = iwv / 2.38\n",
    "            t_ref = 14 * np.log(0.22*iwv/2.38) + 3 + 273.15\n",
    "            if f <= 20:\n",
    "                a_w = (0.0176 * iwv * itu676(f, p_ref, rho_vref, t_ref)[1])/(itu676(f_ref, p_ref, rho_vref, t_ref)[1])\n",
    "            else:\n",
    "                a_w = (a * (h ** b) + 1)*(0.0176 * iwv * itu676(f, p_ref, rho_vref, t_ref)[1])/(itu676(f_ref, p_ref, rho_vref, t_ref)[1])\n",
    "            daily_at[c] = np.append(daily_at[c], a_w)\n",
    "        c += 1\n",
    "    return daily_at"
   ]
  },
  {
   "cell_type": "code",
   "execution_count": 88,
   "metadata": {},
   "outputs": [],
   "source": [
    "prob_nom = [0.1, 0.2, 0.3, 0.5, 1, 2, 3, 5, 10, 20, 30, 50, 60, 70, 80, 90, 95, 99]\n",
    "dfindex = ['Probabilities', 'IWV', 'A20', 'A40', 'A50', 'A75']"
   ]
  },
  {
   "cell_type": "markdown",
   "metadata": {},
   "source": [
    "### El Alto"
   ]
  },
  {
   "cell_type": "code",
   "execution_count": 90,
   "metadata": {},
   "outputs": [],
   "source": [
    "lat = -16.51\n",
    "lon = -68.17\n",
    "iwv = itu836(lat, lon)\n",
    "at_20, at_40, at_50, at_75 = calc_at(iwv, [20, 40, 50, 75], lat, lon)\n",
    "results = pd.DataFrame(np.column_stack([prob_nom, iwv, at_20, at_40, at_50, at_75]), columns=dfindex)\n",
    "results.to_csv('TCWV/ElAlto/CCDF_ITU.csv', index=False)"
   ]
  },
  {
   "cell_type": "markdown",
   "metadata": {},
   "source": [
    "### La Guardia"
   ]
  },
  {
   "cell_type": "code",
   "execution_count": 91,
   "metadata": {},
   "outputs": [],
   "source": [
    "lat = -17.9074\n",
    "lon = -63.3266\n",
    "iwv = itu836(lat, lon)\n",
    "at_20, at_40, at_50, at_75 = calc_at(iwv, [20, 40, 50, 75], lat, lon)\n",
    "results = pd.DataFrame(np.column_stack([prob_nom, iwv, at_20, at_40, at_50, at_75]), columns=dfindex)\n",
    "results.to_csv('TCWV/LaGuardia/CCDF_ITU.csv', index=False)"
   ]
  },
  {
   "cell_type": "markdown",
   "metadata": {},
   "source": [
    "### San Ignacio de Moxos"
   ]
  },
  {
   "cell_type": "code",
   "execution_count": 92,
   "metadata": {},
   "outputs": [],
   "source": [
    "lat = -14.996641\n",
    "lon = -65.640895\n",
    "iwv = itu836(lat, lon)\n",
    "at_20, at_40, at_50, at_75 = calc_at(iwv, [20, 40, 50, 75], lat, lon)\n",
    "results = pd.DataFrame(np.column_stack([prob_nom, iwv, at_20, at_40, at_50, at_75]), columns=dfindex)\n",
    "results.to_csv('TCWV/SIMoxos/CCDF_ITU.csv', index=False)"
   ]
  },
  {
   "cell_type": "markdown",
   "metadata": {},
   "source": [
    "### UPB"
   ]
  },
  {
   "cell_type": "code",
   "execution_count": 93,
   "metadata": {},
   "outputs": [],
   "source": [
    "lat = -17.399253\n",
    "lon = -66.218466\n",
    "iwv = itu836(lat, lon)\n",
    "at_20, at_40, at_50, at_75 = calc_at(iwv, [20, 40, 50, 75], lat, lon)\n",
    "results = pd.DataFrame(np.column_stack([prob_nom, iwv, at_20, at_40, at_50, at_75]), columns=dfindex)\n",
    "results.to_csv('TCWV/UPB/CCDF_ITU.csv', index=False)"
   ]
  }
 ],
 "metadata": {
  "kernelspec": {
   "display_name": "Python 3",
   "language": "python",
   "name": "python3"
  },
  "language_info": {
   "codemirror_mode": {
    "name": "ipython",
    "version": 3
   },
   "file_extension": ".py",
   "mimetype": "text/x-python",
   "name": "python",
   "nbconvert_exporter": "python",
   "pygments_lexer": "ipython3",
   "version": "3.6.9"
  }
 },
 "nbformat": 4,
 "nbformat_minor": 4
}
